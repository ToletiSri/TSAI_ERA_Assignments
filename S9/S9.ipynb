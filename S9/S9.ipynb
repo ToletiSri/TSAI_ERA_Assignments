{
 "cells": [
  {
   "cell_type": "markdown",
   "metadata": {},
   "source": [
    "# TSAI Assignment 9"
   ]
  },
  {
   "cell_type": "code",
   "execution_count": 1,
   "metadata": {
    "id": "6PlbomWY3RSq"
   },
   "outputs": [],
   "source": [
    "from utils import torch,nn,F,optim,datasets,transforms\n",
    "import utils"
   ]
  },
  {
   "cell_type": "markdown",
   "metadata": {
    "id": "3UHq59Sw6tmW"
   },
   "source": [
    "Create Train and test Transforms - use utils module"
   ]
  },
  {
   "cell_type": "code",
   "execution_count": 2,
   "metadata": {
    "id": "KpshQ2Ug38m2"
   },
   "outputs": [],
   "source": [
    "# Train Phase transformations\n",
    "train_transforms = transforms.Compose([\n",
    "                                      #  transforms.Resize((28, 28)),\n",
    "                                      #  transforms.ColorJitter(brightness=0.10, contrast=0.1, saturation=0.10, hue=0.1),\n",
    "                                       transforms.RandomCrop(32, padding=4, padding_mode='reflect'),\n",
    "                                       transforms.RandomHorizontalFlip(),\n",
    "                                       transforms.RandomRotation(15),\n",
    "                                       transforms.ToTensor(),\n",
    "                                       transforms.Normalize((0.4914, 0.4822, 0.4465), (0.2023, 0.1994, 0.2010)) # The mean and std have to be sequences (e.g., tuples), therefore you should add a comma after the values. \n",
    "                                       # Note the difference between (0.1307) and (0.1307,)\n",
    "                                       ])\n",
    "\n",
    "# Test Phase transformations\n",
    "test_transforms = transforms.Compose([\n",
    "                                      #  transforms.Resize((28, 28)),\n",
    "                                      #  transforms.ColorJitter(brightness=0.10, contrast=0.1, saturation=0.10, hue=0.1),\n",
    "                                       transforms.ToTensor(),\n",
    "                                       transforms.Normalize((0.4914, 0.4822, 0.4465), (0.2023, 0.1994, 0.2010))\n",
    "                                       ])\n"
   ]
  },
  {
   "cell_type": "code",
   "execution_count": 3,
   "metadata": {},
   "outputs": [],
   "source": [
    "# I have tried using albumetation, but couldn't get around data load errors. Hence commented\n",
    "\n",
    "#import albumentations as A\n",
    "\n",
    "#class ImageDataset():\n",
    "#    def __init__(self, images_filepaths, transform=None):\n",
    "#        self.images_filepaths = images_filepaths\n",
    "#        self.transform = transform\n",
    "#\n",
    "#    def __len__(self):\n",
    "#        return len(self.images_filepaths)\n",
    "\n",
    "#    def __getitem__(self, idx):\n",
    "#        image_filepath = self.images_filepaths[idx]\n",
    "#        image = cv2.imread(image_filepath)\n",
    "#        image = cv2.cvtColor(image, cv2.COLOR_BGR2RGB)\n",
    "#        if self.transform is not None:\n",
    "#            image = self.transform(image=image)[\"image\"]\n",
    "#        return image\n",
    "\n",
    "#train_transforms = A.Compose([\n",
    "#    A.RandomCrop(width=25, height=25),  \n",
    "#    A.HorizontalFlip(p=0.5),\n",
    "#    A.augmentations.geometric.transforms.ShiftScaleRotate(),\n",
    "#    #A.RandomBrightnessContrast(p=0.2),\n",
    "#    A.augmentations.transforms.Normalize (mean=(0.4914, 0.4822, 0.4465), std=(0.2023, 0.1994, 0.2010)),  \n",
    "#    A.augmentations.dropout.coarse_dropout.CoarseDropout(max_holes = 1, max_height=16, max_width=16, min_holes = 1, min_height=16, min_width=16, fill_value=(0.4914, 0.4822, 0.4465), mask_fill_value = None)\n",
    "#])\n",
    "\n",
    "#train = datasets.CIFAR10(root='./data', train=True,\n",
    "#                                        download=True, transform=train_transforms)\n",
    "#train = ImageDataset(images_filepaths='./data', transform=train_transforms)\n"
   ]
  },
  {
   "cell_type": "markdown",
   "metadata": {
    "id": "zQm17pM46zHL"
   },
   "source": [
    "Get the CIFAR 10 data - train dataset and test dataset"
   ]
  },
  {
   "cell_type": "code",
   "execution_count": 4,
   "metadata": {
    "colab": {
     "base_uri": "https://localhost:8080/"
    },
    "id": "JB79ZYW13-AO",
    "outputId": "f375e7e7-b967-4ca5-cfad-a816b8f58a8a"
   },
   "outputs": [
    {
     "name": "stdout",
     "output_type": "stream",
     "text": [
      "Files already downloaded and verified\n",
      "Files already downloaded and verified\n"
     ]
    }
   ],
   "source": [
    "train_data = datasets.CIFAR10('./data', train=True, download=True, transform=train_transforms)\n",
    "test_data = datasets.CIFAR10('./data', train=False, download=True, transform=test_transforms)"
   ]
  },
  {
   "cell_type": "markdown",
   "metadata": {
    "id": "_PKSHxto6116"
   },
   "source": [
    "Get the train_loader and test_loader -  batches of data used in model training/testing"
   ]
  },
  {
   "cell_type": "code",
   "execution_count": 5,
   "metadata": {
    "id": "avCKK1uL4A68"
   },
   "outputs": [],
   "source": [
    "SEED = 1\n",
    "\n",
    "\n",
    "\n",
    "# For reproducibility\n",
    "torch.manual_seed(SEED)\n",
    "torch.cuda.manual_seed(SEED)\n",
    "\n",
    "batch_size = 512\n",
    "\n",
    "kwargs = {'batch_size': batch_size, 'shuffle': True, 'num_workers': 4, 'pin_memory': True}\n",
    "\n",
    "train_loader = torch.utils.data.DataLoader(train_data, **kwargs)\n",
    "test_loader = torch.utils.data.DataLoader(test_data, **kwargs)"
   ]
  },
  {
   "cell_type": "markdown",
   "metadata": {
    "id": "Hi_0rfq56-29"
   },
   "source": [
    "Plot some train data to make sure the loading is correct"
   ]
  },
  {
   "cell_type": "code",
   "execution_count": 6,
   "metadata": {
    "colab": {
     "base_uri": "https://localhost:8080/",
     "height": 463
    },
    "id": "Hx7QkLcw4Epc",
    "outputId": "f300f2b7-1a0a-4a67-d541-fe8b9c525b86"
   },
   "outputs": [
    {
     "name": "stderr",
     "output_type": "stream",
     "text": [
      "Clipping input data to the valid range for imshow with RGB data ([0..1] for floats or [0..255] for integers).\n"
     ]
    },
    {
     "data": {
      "image/png": "[encoded data removed]",
      "text/plain": [
       "<Figure size 640x480 with 1 Axes>"
      ]
     },
     "metadata": {},
     "output_type": "display_data"
    },
    {
     "name": "stdout",
     "output_type": "stream",
     "text": [
      "ship  bird  cat   dog  \n"
     ]
    }
   ],
   "source": [
    "import matplotlib.pyplot as plt\n",
    "import numpy as np\n",
    "\n",
    "# functions to show an image\n",
    "\n",
    "\n",
    "def imshow(img):\n",
    "    img = img / 2 + 0.5     # unnormalize\n",
    "    npimg = img.numpy()\n",
    "    plt.imshow(np.transpose(npimg, (1, 2, 0)))\n",
    "    plt.show()\n",
    "\n",
    "\n",
    "# get some random training images\n",
    "dataiter = iter(train_loader)\n",
    "images, labels = next(dataiter)\n",
    "classes = ('plane', 'car', 'bird', 'cat',\n",
    "           'deer', 'dog', 'frog', 'horse', 'ship', 'truck')\n",
    "\n",
    "import torchvision\n",
    "# show images\n",
    "imshow(torchvision.utils.make_grid(images[:4]))\n",
    "# print labels\n",
    "print(' '.join(f'{classes[labels[j]]:5s}' for j in range(4)))"
   ]
  },
  {
   "cell_type": "markdown",
   "metadata": {
    "id": "y3XbVJSb7Aee"
   },
   "source": [
    "## MODEL - 1"
   ]
  },
  {
   "cell_type": "code",
   "execution_count": 7,
   "metadata": {
    "id": "UHBolvMH4F8y"
   },
   "outputs": [],
   "source": [
    "import model\n",
    "myFirstModel = model.getModel()"
   ]
  },
  {
   "cell_type": "markdown",
   "metadata": {},
   "source": [
    "Print the model summary to know your model"
   ]
  },
  {
   "cell_type": "code",
   "execution_count": 8,
   "metadata": {},
   "outputs": [
    {
     "name": "stdout",
     "output_type": "stream",
     "text": [
      "----------------------------------------------------------------\n",
      "        Layer (type)               Output Shape         Param #\n",
      "================================================================\n",
      "            Conv2d-1           [-1, 32, 32, 32]             864\n",
      "              ReLU-2           [-1, 32, 32, 32]               0\n",
      "       BatchNorm2d-3           [-1, 32, 32, 32]              64\n",
      "           Dropout-4           [-1, 32, 32, 32]               0\n",
      "            Conv2d-5           [-1, 32, 32, 32]           9,216\n",
      "              ReLU-6           [-1, 32, 32, 32]               0\n",
      "       BatchNorm2d-7           [-1, 32, 32, 32]              64\n",
      "           Dropout-8           [-1, 32, 32, 32]               0\n",
      "            Conv2d-9           [-1, 32, 32, 32]           9,216\n",
      "             ReLU-10           [-1, 32, 32, 32]               0\n",
      "      BatchNorm2d-11           [-1, 32, 32, 32]              64\n",
      "          Dropout-12           [-1, 32, 32, 32]               0\n",
      "           Conv2d-13           [-1, 32, 32, 32]           9,216\n",
      "             ReLU-14           [-1, 32, 32, 32]               0\n",
      "      BatchNorm2d-15           [-1, 32, 32, 32]              64\n",
      "          Dropout-16           [-1, 32, 32, 32]               0\n",
      "           Conv2d-17           [-1, 64, 28, 28]          18,432\n",
      "             ReLU-18           [-1, 64, 28, 28]               0\n",
      "      BatchNorm2d-19           [-1, 64, 28, 28]             128\n",
      "          Dropout-20           [-1, 64, 28, 28]               0\n",
      "           Conv2d-21           [-1, 32, 28, 28]           2,048\n",
      "           Conv2d-22           [-1, 32, 28, 28]             320\n",
      "           Conv2d-23           [-1, 64, 28, 28]           2,112\n",
      "             ReLU-24           [-1, 64, 28, 28]               0\n",
      "      BatchNorm2d-25           [-1, 64, 28, 28]             128\n",
      "          Dropout-26           [-1, 64, 28, 28]               0\n",
      "           Conv2d-27           [-1, 64, 28, 28]             640\n",
      "           Conv2d-28           [-1, 64, 28, 28]           4,160\n",
      "             ReLU-29           [-1, 64, 28, 28]               0\n",
      "      BatchNorm2d-30           [-1, 64, 28, 28]             128\n",
      "          Dropout-31           [-1, 64, 28, 28]               0\n",
      "           Conv2d-32           [-1, 64, 22, 22]          36,864\n",
      "             ReLU-33           [-1, 64, 22, 22]               0\n",
      "      BatchNorm2d-34           [-1, 64, 22, 22]             128\n",
      "          Dropout-35           [-1, 64, 22, 22]               0\n",
      "           Conv2d-36           [-1, 32, 22, 22]           2,048\n",
      "           Conv2d-37           [-1, 32, 22, 22]             320\n",
      "           Conv2d-38           [-1, 64, 22, 22]           2,112\n",
      "             ReLU-39           [-1, 64, 22, 22]               0\n",
      "      BatchNorm2d-40           [-1, 64, 22, 22]             128\n",
      "          Dropout-41           [-1, 64, 22, 22]               0\n",
      "           Conv2d-42           [-1, 64, 22, 22]             640\n",
      "           Conv2d-43           [-1, 64, 22, 22]           4,160\n",
      "             ReLU-44           [-1, 64, 22, 22]               0\n",
      "      BatchNorm2d-45           [-1, 64, 22, 22]             128\n",
      "          Dropout-46           [-1, 64, 22, 22]               0\n",
      "           Conv2d-47           [-1, 64, 14, 14]          36,864\n",
      "             ReLU-48           [-1, 64, 14, 14]               0\n",
      "      BatchNorm2d-49           [-1, 64, 14, 14]             128\n",
      "          Dropout-50           [-1, 64, 14, 14]               0\n",
      "           Conv2d-51           [-1, 32, 14, 14]           2,048\n",
      "           Conv2d-52           [-1, 32, 12, 12]           9,216\n",
      "             ReLU-53           [-1, 32, 12, 12]               0\n",
      "      BatchNorm2d-54           [-1, 32, 12, 12]              64\n",
      "          Dropout-55           [-1, 32, 12, 12]               0\n",
      "           Conv2d-56           [-1, 32, 12, 12]           9,216\n",
      "             ReLU-57           [-1, 32, 12, 12]               0\n",
      "      BatchNorm2d-58           [-1, 32, 12, 12]              64\n",
      "          Dropout-59           [-1, 32, 12, 12]               0\n",
      "           Conv2d-60             [-1, 32, 4, 4]           9,216\n",
      "             ReLU-61             [-1, 32, 4, 4]               0\n",
      "      BatchNorm2d-62             [-1, 32, 4, 4]              64\n",
      "          Dropout-63             [-1, 32, 4, 4]               0\n",
      "        AvgPool2d-64             [-1, 32, 1, 1]               0\n",
      "           Conv2d-65             [-1, 10, 1, 1]             320\n",
      "================================================================\n",
      "Total params: 170,592\n",
      "Trainable params: 170,592\n",
      "Non-trainable params: 0\n",
      "----------------------------------------------------------------\n",
      "Input size (MB): 0.01\n",
      "Forward/backward pass size (MB): 13.40\n",
      "Params size (MB): 0.65\n",
      "Estimated Total Size (MB): 14.06\n",
      "----------------------------------------------------------------\n"
     ]
    }
   ],
   "source": [
    "utils.printModelSummary(myFirstModel,(3, 32, 32))"
   ]
  },
  {
   "cell_type": "markdown",
   "metadata": {
    "id": "89gd4_s7AO2y"
   },
   "source": [
    "Train and test your model for mutiple epochs"
   ]
  },
  {
   "cell_type": "code",
   "execution_count": 9,
   "metadata": {
    "colab": {
     "base_uri": "https://localhost:8080/"
    },
    "id": "Owqiet9M4TV7",
    "outputId": "f5c847c7-642b-4773-becf-70168897809e"
   },
   "outputs": [
    {
     "name": "stdout",
     "output_type": "stream",
     "text": [
      "Adjusting learning rate of group 0 to 1.0000e-01.\n",
      "Epoch 1\n"
     ]
    },
    {
     "name": "stderr",
     "output_type": "stream",
     "text": [
      "Train: Loss=1.5848 Batch_id=97 Accuracy=33.87: 100%|███████████████████████████████████| 98/98 [01:20<00:00,  1.22it/s]\n"
     ]
    },
    {
     "name": "stdout",
     "output_type": "stream",
     "text": [
      "Test set: Average loss: 1.5924, Accuracy: 4120/10000 (41.20%)\n",
      "\n",
      "Adjusting learning rate of group 0 to 1.0000e-01.\n",
      "Epoch 2\n"
     ]
    },
    {
     "name": "stderr",
     "output_type": "stream",
     "text": [
      "Train: Loss=1.4450 Batch_id=97 Accuracy=45.96: 100%|███████████████████████████████████| 98/98 [00:58<00:00,  1.69it/s]\n"
     ]
    },
    {
     "name": "stdout",
     "output_type": "stream",
     "text": [
      "Test set: Average loss: 1.3636, Accuracy: 5123/10000 (51.23%)\n",
      "\n",
      "Adjusting learning rate of group 0 to 1.0000e-01.\n",
      "Epoch 3\n"
     ]
    },
    {
     "name": "stderr",
     "output_type": "stream",
     "text": [
      "Train: Loss=1.1602 Batch_id=97 Accuracy=53.57: 100%|███████████████████████████████████| 98/98 [00:54<00:00,  1.80it/s]\n"
     ]
    },
    {
     "name": "stdout",
     "output_type": "stream",
     "text": [
      "Test set: Average loss: 1.1622, Accuracy: 5834/10000 (58.34%)\n",
      "\n",
      "Adjusting learning rate of group 0 to 1.0000e-01.\n",
      "Epoch 4\n"
     ]
    },
    {
     "name": "stderr",
     "output_type": "stream",
     "text": [
      "Train: Loss=1.0794 Batch_id=97 Accuracy=58.38: 100%|███████████████████████████████████| 98/98 [00:54<00:00,  1.80it/s]\n"
     ]
    },
    {
     "name": "stdout",
     "output_type": "stream",
     "text": [
      "Test set: Average loss: 1.0612, Accuracy: 6275/10000 (62.75%)\n",
      "\n",
      "Adjusting learning rate of group 0 to 1.0000e-01.\n",
      "Epoch 5\n"
     ]
    },
    {
     "name": "stderr",
     "output_type": "stream",
     "text": [
      "Train: Loss=1.0111 Batch_id=97 Accuracy=61.73: 100%|███████████████████████████████████| 98/98 [00:52<00:00,  1.85it/s]\n"
     ]
    },
    {
     "name": "stdout",
     "output_type": "stream",
     "text": [
      "Test set: Average loss: 0.9161, Accuracy: 6716/10000 (67.16%)\n",
      "\n",
      "Adjusting learning rate of group 0 to 1.0000e-01.\n",
      "Epoch 6\n"
     ]
    },
    {
     "name": "stderr",
     "output_type": "stream",
     "text": [
      "Train: Loss=0.9018 Batch_id=97 Accuracy=64.94: 100%|███████████████████████████████████| 98/98 [00:52<00:00,  1.88it/s]\n"
     ]
    },
    {
     "name": "stdout",
     "output_type": "stream",
     "text": [
      "Test set: Average loss: 0.8630, Accuracy: 6905/10000 (69.05%)\n",
      "\n",
      "Adjusting learning rate of group 0 to 1.0000e-01.\n",
      "Epoch 7\n"
     ]
    },
    {
     "name": "stderr",
     "output_type": "stream",
     "text": [
      "Train: Loss=0.7994 Batch_id=97 Accuracy=67.04: 100%|███████████████████████████████████| 98/98 [00:54<00:00,  1.79it/s]\n"
     ]
    },
    {
     "name": "stdout",
     "output_type": "stream",
     "text": [
      "Test set: Average loss: 0.8157, Accuracy: 7139/10000 (71.39%)\n",
      "\n",
      "Adjusting learning rate of group 0 to 1.0000e-01.\n",
      "Epoch 8\n"
     ]
    },
    {
     "name": "stderr",
     "output_type": "stream",
     "text": [
      "Train: Loss=0.7811 Batch_id=97 Accuracy=68.62: 100%|███████████████████████████████████| 98/98 [00:53<00:00,  1.82it/s]\n"
     ]
    },
    {
     "name": "stdout",
     "output_type": "stream",
     "text": [
      "Test set: Average loss: 0.7443, Accuracy: 7353/10000 (73.53%)\n",
      "\n",
      "Adjusting learning rate of group 0 to 1.0000e-01.\n",
      "Epoch 9\n"
     ]
    },
    {
     "name": "stderr",
     "output_type": "stream",
     "text": [
      "Train: Loss=0.7330 Batch_id=97 Accuracy=70.24: 100%|███████████████████████████████████| 98/98 [00:53<00:00,  1.82it/s]\n"
     ]
    },
    {
     "name": "stdout",
     "output_type": "stream",
     "text": [
      "Test set: Average loss: 0.7384, Accuracy: 7354/10000 (73.54%)\n",
      "\n",
      "Adjusting learning rate of group 0 to 1.0000e-01.\n",
      "Epoch 10\n"
     ]
    },
    {
     "name": "stderr",
     "output_type": "stream",
     "text": [
      "Train: Loss=0.7343 Batch_id=97 Accuracy=71.72: 100%|███████████████████████████████████| 98/98 [00:53<00:00,  1.84it/s]\n"
     ]
    },
    {
     "name": "stdout",
     "output_type": "stream",
     "text": [
      "Test set: Average loss: 0.6721, Accuracy: 7628/10000 (76.28%)\n",
      "\n",
      "Adjusting learning rate of group 0 to 1.0000e-01.\n",
      "Epoch 11\n"
     ]
    },
    {
     "name": "stderr",
     "output_type": "stream",
     "text": [
      "Train: Loss=0.6800 Batch_id=97 Accuracy=72.14: 100%|███████████████████████████████████| 98/98 [00:52<00:00,  1.86it/s]\n"
     ]
    },
    {
     "name": "stdout",
     "output_type": "stream",
     "text": [
      "Test set: Average loss: 0.6563, Accuracy: 7732/10000 (77.32%)\n",
      "\n",
      "Adjusting learning rate of group 0 to 1.0000e-01.\n",
      "Epoch 12\n"
     ]
    },
    {
     "name": "stderr",
     "output_type": "stream",
     "text": [
      "Train: Loss=0.7108 Batch_id=97 Accuracy=73.52: 100%|███████████████████████████████████| 98/98 [00:53<00:00,  1.84it/s]\n"
     ]
    },
    {
     "name": "stdout",
     "output_type": "stream",
     "text": [
      "Test set: Average loss: 0.6435, Accuracy: 7764/10000 (77.64%)\n",
      "\n",
      "Adjusting learning rate of group 0 to 1.0000e-01.\n",
      "Epoch 13\n"
     ]
    },
    {
     "name": "stderr",
     "output_type": "stream",
     "text": [
      "Train: Loss=0.7475 Batch_id=97 Accuracy=74.26: 100%|███████████████████████████████████| 98/98 [00:53<00:00,  1.85it/s]\n"
     ]
    },
    {
     "name": "stdout",
     "output_type": "stream",
     "text": [
      "Test set: Average loss: 0.6495, Accuracy: 7791/10000 (77.91%)\n",
      "\n",
      "Adjusting learning rate of group 0 to 1.0000e-01.\n",
      "Epoch 14\n"
     ]
    },
    {
     "name": "stderr",
     "output_type": "stream",
     "text": [
      "Train: Loss=0.7474 Batch_id=97 Accuracy=75.54: 100%|███████████████████████████████████| 98/98 [00:52<00:00,  1.86it/s]\n"
     ]
    },
    {
     "name": "stdout",
     "output_type": "stream",
     "text": [
      "Test set: Average loss: 0.5816, Accuracy: 7979/10000 (79.79%)\n",
      "\n",
      "Adjusting learning rate of group 0 to 1.0000e-01.\n",
      "Epoch 15\n"
     ]
    },
    {
     "name": "stderr",
     "output_type": "stream",
     "text": [
      "Train: Loss=0.6663 Batch_id=97 Accuracy=76.20: 100%|███████████████████████████████████| 98/98 [00:52<00:00,  1.87it/s]\n"
     ]
    },
    {
     "name": "stdout",
     "output_type": "stream",
     "text": [
      "Test set: Average loss: 0.5825, Accuracy: 7985/10000 (79.85%)\n",
      "\n",
      "Adjusting learning rate of group 0 to 1.0000e-02.\n",
      "Epoch 16\n"
     ]
    },
    {
     "name": "stderr",
     "output_type": "stream",
     "text": [
      "Train: Loss=0.5794 Batch_id=97 Accuracy=78.60: 100%|███████████████████████████████████| 98/98 [00:52<00:00,  1.87it/s]\n"
     ]
    },
    {
     "name": "stdout",
     "output_type": "stream",
     "text": [
      "Test set: Average loss: 0.5061, Accuracy: 8243/10000 (82.43%)\n",
      "\n",
      "Adjusting learning rate of group 0 to 1.0000e-02.\n",
      "Epoch 17\n"
     ]
    },
    {
     "name": "stderr",
     "output_type": "stream",
     "text": [
      "Train: Loss=0.5432 Batch_id=97 Accuracy=79.93: 100%|███████████████████████████████████| 98/98 [00:52<00:00,  1.85it/s]\n"
     ]
    },
    {
     "name": "stdout",
     "output_type": "stream",
     "text": [
      "Test set: Average loss: 0.4923, Accuracy: 8312/10000 (83.12%)\n",
      "\n",
      "Adjusting learning rate of group 0 to 1.0000e-02.\n",
      "Epoch 18\n"
     ]
    },
    {
     "name": "stderr",
     "output_type": "stream",
     "text": [
      "Train: Loss=0.5890 Batch_id=97 Accuracy=80.01: 100%|███████████████████████████████████| 98/98 [00:52<00:00,  1.88it/s]\n"
     ]
    },
    {
     "name": "stdout",
     "output_type": "stream",
     "text": [
      "Test set: Average loss: 0.4903, Accuracy: 8300/10000 (83.00%)\n",
      "\n",
      "Adjusting learning rate of group 0 to 1.0000e-02.\n",
      "Epoch 19\n"
     ]
    },
    {
     "name": "stderr",
     "output_type": "stream",
     "text": [
      "Train: Loss=0.5660 Batch_id=97 Accuracy=80.23: 100%|███████████████████████████████████| 98/98 [00:53<00:00,  1.84it/s]\n"
     ]
    },
    {
     "name": "stdout",
     "output_type": "stream",
     "text": [
      "Test set: Average loss: 0.4867, Accuracy: 8296/10000 (82.96%)\n",
      "\n",
      "Adjusting learning rate of group 0 to 1.0000e-02.\n",
      "Epoch 20\n"
     ]
    },
    {
     "name": "stderr",
     "output_type": "stream",
     "text": [
      "Train: Loss=0.6456 Batch_id=97 Accuracy=80.35: 100%|███████████████████████████████████| 98/98 [00:52<00:00,  1.87it/s]\n"
     ]
    },
    {
     "name": "stdout",
     "output_type": "stream",
     "text": [
      "Test set: Average loss: 0.4794, Accuracy: 8355/10000 (83.55%)\n",
      "\n",
      "Adjusting learning rate of group 0 to 1.0000e-02.\n",
      "Epoch 21\n"
     ]
    },
    {
     "name": "stderr",
     "output_type": "stream",
     "text": [
      "Train: Loss=0.4989 Batch_id=97 Accuracy=80.70: 100%|███████████████████████████████████| 98/98 [00:52<00:00,  1.86it/s]\n"
     ]
    },
    {
     "name": "stdout",
     "output_type": "stream",
     "text": [
      "Test set: Average loss: 0.4818, Accuracy: 8342/10000 (83.42%)\n",
      "\n",
      "Adjusting learning rate of group 0 to 1.0000e-02.\n",
      "Epoch 22\n"
     ]
    },
    {
     "name": "stderr",
     "output_type": "stream",
     "text": [
      "Train: Loss=0.5841 Batch_id=97 Accuracy=80.81: 100%|███████████████████████████████████| 98/98 [00:52<00:00,  1.86it/s]\n"
     ]
    },
    {
     "name": "stdout",
     "output_type": "stream",
     "text": [
      "Test set: Average loss: 0.4840, Accuracy: 8336/10000 (83.36%)\n",
      "\n",
      "Adjusting learning rate of group 0 to 1.0000e-02.\n",
      "Epoch 23\n"
     ]
    },
    {
     "name": "stderr",
     "output_type": "stream",
     "text": [
      "Train: Loss=0.5819 Batch_id=97 Accuracy=80.84: 100%|███████████████████████████████████| 98/98 [00:52<00:00,  1.88it/s]\n"
     ]
    },
    {
     "name": "stdout",
     "output_type": "stream",
     "text": [
      "Test set: Average loss: 0.4759, Accuracy: 8349/10000 (83.49%)\n",
      "\n",
      "Adjusting learning rate of group 0 to 1.0000e-02.\n",
      "Epoch 24\n"
     ]
    },
    {
     "name": "stderr",
     "output_type": "stream",
     "text": [
      "Train: Loss=0.5776 Batch_id=97 Accuracy=81.18: 100%|███████████████████████████████████| 98/98 [00:52<00:00,  1.87it/s]\n"
     ]
    },
    {
     "name": "stdout",
     "output_type": "stream",
     "text": [
      "Test set: Average loss: 0.4789, Accuracy: 8338/10000 (83.38%)\n",
      "\n",
      "Adjusting learning rate of group 0 to 1.0000e-02.\n",
      "Epoch 25\n"
     ]
    },
    {
     "name": "stderr",
     "output_type": "stream",
     "text": [
      "Train: Loss=0.5645 Batch_id=97 Accuracy=81.33: 100%|███████████████████████████████████| 98/98 [00:52<00:00,  1.88it/s]\n"
     ]
    },
    {
     "name": "stdout",
     "output_type": "stream",
     "text": [
      "Test set: Average loss: 0.4696, Accuracy: 8360/10000 (83.60%)\n",
      "\n",
      "Adjusting learning rate of group 0 to 1.0000e-02.\n",
      "Epoch 26\n"
     ]
    },
    {
     "name": "stderr",
     "output_type": "stream",
     "text": [
      "Train: Loss=0.5153 Batch_id=97 Accuracy=81.32: 100%|███████████████████████████████████| 98/98 [00:52<00:00,  1.86it/s]\n"
     ]
    },
    {
     "name": "stdout",
     "output_type": "stream",
     "text": [
      "Test set: Average loss: 0.4690, Accuracy: 8367/10000 (83.67%)\n",
      "\n",
      "Adjusting learning rate of group 0 to 1.0000e-02.\n",
      "Epoch 27\n"
     ]
    },
    {
     "name": "stderr",
     "output_type": "stream",
     "text": [
      "Train: Loss=0.5943 Batch_id=97 Accuracy=81.23: 100%|███████████████████████████████████| 98/98 [00:55<00:00,  1.78it/s]\n"
     ]
    },
    {
     "name": "stdout",
     "output_type": "stream",
     "text": [
      "Test set: Average loss: 0.4693, Accuracy: 8354/10000 (83.54%)\n",
      "\n",
      "Adjusting learning rate of group 0 to 1.0000e-02.\n",
      "Epoch 28\n"
     ]
    },
    {
     "name": "stderr",
     "output_type": "stream",
     "text": [
      "Train: Loss=0.5281 Batch_id=97 Accuracy=81.52: 100%|███████████████████████████████████| 98/98 [00:52<00:00,  1.87it/s]\n"
     ]
    },
    {
     "name": "stdout",
     "output_type": "stream",
     "text": [
      "Test set: Average loss: 0.4641, Accuracy: 8382/10000 (83.82%)\n",
      "\n",
      "Adjusting learning rate of group 0 to 1.0000e-02.\n",
      "Epoch 29\n"
     ]
    },
    {
     "name": "stderr",
     "output_type": "stream",
     "text": [
      "Train: Loss=0.5535 Batch_id=97 Accuracy=81.46: 100%|███████████████████████████████████| 98/98 [00:52<00:00,  1.86it/s]\n"
     ]
    },
    {
     "name": "stdout",
     "output_type": "stream",
     "text": [
      "Test set: Average loss: 0.4656, Accuracy: 8357/10000 (83.57%)\n",
      "\n",
      "Adjusting learning rate of group 0 to 1.0000e-02.\n",
      "Epoch 30\n"
     ]
    },
    {
     "name": "stderr",
     "output_type": "stream",
     "text": [
      "Train: Loss=0.4609 Batch_id=97 Accuracy=81.70: 100%|███████████████████████████████████| 98/98 [00:52<00:00,  1.87it/s]\n"
     ]
    },
    {
     "name": "stdout",
     "output_type": "stream",
     "text": [
      "Test set: Average loss: 0.4655, Accuracy: 8368/10000 (83.68%)\n",
      "\n",
      "Adjusting learning rate of group 0 to 1.0000e-03.\n",
      "Epoch 31\n"
     ]
    },
    {
     "name": "stderr",
     "output_type": "stream",
     "text": [
      "Train: Loss=0.4822 Batch_id=97 Accuracy=81.98: 100%|███████████████████████████████████| 98/98 [00:52<00:00,  1.87it/s]\n"
     ]
    },
    {
     "name": "stdout",
     "output_type": "stream",
     "text": [
      "Test set: Average loss: 0.4579, Accuracy: 8384/10000 (83.84%)\n",
      "\n",
      "Adjusting learning rate of group 0 to 1.0000e-03.\n",
      "Epoch 32\n"
     ]
    },
    {
     "name": "stderr",
     "output_type": "stream",
     "text": [
      "Train: Loss=0.5569 Batch_id=97 Accuracy=81.97: 100%|███████████████████████████████████| 98/98 [00:52<00:00,  1.86it/s]\n"
     ]
    },
    {
     "name": "stdout",
     "output_type": "stream",
     "text": [
      "Test set: Average loss: 0.4555, Accuracy: 8406/10000 (84.06%)\n",
      "\n",
      "Adjusting learning rate of group 0 to 1.0000e-03.\n",
      "Epoch 33\n"
     ]
    },
    {
     "name": "stderr",
     "output_type": "stream",
     "text": [
      "Train: Loss=0.4644 Batch_id=97 Accuracy=82.40: 100%|███████████████████████████████████| 98/98 [00:52<00:00,  1.85it/s]\n"
     ]
    },
    {
     "name": "stdout",
     "output_type": "stream",
     "text": [
      "Test set: Average loss: 0.4556, Accuracy: 8412/10000 (84.12%)\n",
      "\n",
      "Adjusting learning rate of group 0 to 1.0000e-03.\n",
      "Epoch 34\n"
     ]
    },
    {
     "name": "stderr",
     "output_type": "stream",
     "text": [
      "Train: Loss=0.5327 Batch_id=97 Accuracy=82.01: 100%|███████████████████████████████████| 98/98 [00:52<00:00,  1.86it/s]\n"
     ]
    },
    {
     "name": "stdout",
     "output_type": "stream",
     "text": [
      "Test set: Average loss: 0.4565, Accuracy: 8403/10000 (84.03%)\n",
      "\n",
      "Adjusting learning rate of group 0 to 1.0000e-03.\n",
      "Epoch 35\n"
     ]
    },
    {
     "name": "stderr",
     "output_type": "stream",
     "text": [
      "Train: Loss=0.5008 Batch_id=97 Accuracy=82.42: 100%|███████████████████████████████████| 98/98 [00:52<00:00,  1.86it/s]\n"
     ]
    },
    {
     "name": "stdout",
     "output_type": "stream",
     "text": [
      "Test set: Average loss: 0.4529, Accuracy: 8421/10000 (84.21%)\n",
      "\n",
      "Adjusting learning rate of group 0 to 1.0000e-03.\n",
      "Epoch 36\n"
     ]
    },
    {
     "name": "stderr",
     "output_type": "stream",
     "text": [
      "Train: Loss=0.4964 Batch_id=97 Accuracy=82.43: 100%|███████████████████████████████████| 98/98 [00:53<00:00,  1.84it/s]\n"
     ]
    },
    {
     "name": "stdout",
     "output_type": "stream",
     "text": [
      "Test set: Average loss: 0.4540, Accuracy: 8405/10000 (84.05%)\n",
      "\n",
      "Adjusting learning rate of group 0 to 1.0000e-03.\n",
      "Epoch 37\n"
     ]
    },
    {
     "name": "stderr",
     "output_type": "stream",
     "text": [
      "Train: Loss=0.4813 Batch_id=97 Accuracy=82.27: 100%|███████████████████████████████████| 98/98 [00:53<00:00,  1.83it/s]\n"
     ]
    },
    {
     "name": "stdout",
     "output_type": "stream",
     "text": [
      "Test set: Average loss: 0.4537, Accuracy: 8433/10000 (84.33%)\n",
      "\n",
      "Adjusting learning rate of group 0 to 1.0000e-03.\n",
      "Epoch 38\n"
     ]
    },
    {
     "name": "stderr",
     "output_type": "stream",
     "text": [
      "Train: Loss=0.5250 Batch_id=97 Accuracy=82.28: 100%|███████████████████████████████████| 98/98 [00:53<00:00,  1.84it/s]\n"
     ]
    },
    {
     "name": "stdout",
     "output_type": "stream",
     "text": [
      "Test set: Average loss: 0.4523, Accuracy: 8424/10000 (84.24%)\n",
      "\n",
      "Adjusting learning rate of group 0 to 1.0000e-03.\n",
      "Epoch 39\n"
     ]
    },
    {
     "name": "stderr",
     "output_type": "stream",
     "text": [
      "Train: Loss=0.6041 Batch_id=97 Accuracy=82.22: 100%|███████████████████████████████████| 98/98 [00:52<00:00,  1.87it/s]\n"
     ]
    },
    {
     "name": "stdout",
     "output_type": "stream",
     "text": [
      "Test set: Average loss: 0.4531, Accuracy: 8417/10000 (84.17%)\n",
      "\n",
      "Adjusting learning rate of group 0 to 1.0000e-03.\n",
      "Epoch 40\n"
     ]
    },
    {
     "name": "stderr",
     "output_type": "stream",
     "text": [
      "Train: Loss=0.5145 Batch_id=97 Accuracy=82.15: 100%|███████████████████████████████████| 98/98 [00:52<00:00,  1.86it/s]\n"
     ]
    },
    {
     "name": "stdout",
     "output_type": "stream",
     "text": [
      "Test set: Average loss: 0.4548, Accuracy: 8417/10000 (84.17%)\n",
      "\n",
      "Adjusting learning rate of group 0 to 1.0000e-03.\n",
      "Epoch 41\n"
     ]
    },
    {
     "name": "stderr",
     "output_type": "stream",
     "text": [
      "Train: Loss=0.5395 Batch_id=97 Accuracy=82.46: 100%|███████████████████████████████████| 98/98 [00:52<00:00,  1.87it/s]\n"
     ]
    },
    {
     "name": "stdout",
     "output_type": "stream",
     "text": [
      "Test set: Average loss: 0.4527, Accuracy: 8420/10000 (84.20%)\n",
      "\n",
      "Adjusting learning rate of group 0 to 1.0000e-03.\n",
      "Epoch 42\n"
     ]
    },
    {
     "name": "stderr",
     "output_type": "stream",
     "text": [
      "Train: Loss=0.4607 Batch_id=97 Accuracy=82.20: 100%|███████████████████████████████████| 98/98 [00:53<00:00,  1.85it/s]\n"
     ]
    },
    {
     "name": "stdout",
     "output_type": "stream",
     "text": [
      "Test set: Average loss: 0.4514, Accuracy: 8420/10000 (84.20%)\n",
      "\n",
      "Adjusting learning rate of group 0 to 1.0000e-03.\n",
      "Epoch 43\n"
     ]
    },
    {
     "name": "stderr",
     "output_type": "stream",
     "text": [
      "Train: Loss=0.5866 Batch_id=97 Accuracy=82.22: 100%|███████████████████████████████████| 98/98 [00:54<00:00,  1.79it/s]\n"
     ]
    },
    {
     "name": "stdout",
     "output_type": "stream",
     "text": [
      "Test set: Average loss: 0.4517, Accuracy: 8432/10000 (84.32%)\n",
      "\n",
      "Adjusting learning rate of group 0 to 1.0000e-03.\n",
      "Epoch 44\n"
     ]
    },
    {
     "name": "stderr",
     "output_type": "stream",
     "text": [
      "Train: Loss=0.5351 Batch_id=97 Accuracy=82.20: 100%|███████████████████████████████████| 98/98 [00:59<00:00,  1.64it/s]\n"
     ]
    },
    {
     "name": "stdout",
     "output_type": "stream",
     "text": [
      "Test set: Average loss: 0.4505, Accuracy: 8436/10000 (84.36%)\n",
      "\n",
      "Adjusting learning rate of group 0 to 1.0000e-03.\n",
      "Epoch 45\n"
     ]
    },
    {
     "name": "stderr",
     "output_type": "stream",
     "text": [
      "Train: Loss=0.5997 Batch_id=97 Accuracy=82.46: 100%|███████████████████████████████████| 98/98 [00:58<00:00,  1.67it/s]\n"
     ]
    },
    {
     "name": "stdout",
     "output_type": "stream",
     "text": [
      "Test set: Average loss: 0.4521, Accuracy: 8429/10000 (84.29%)\n",
      "\n",
      "Adjusting learning rate of group 0 to 1.0000e-04.\n",
      "Epoch 46\n"
     ]
    },
    {
     "name": "stderr",
     "output_type": "stream",
     "text": [
      "Train: Loss=0.5167 Batch_id=97 Accuracy=82.41: 100%|███████████████████████████████████| 98/98 [00:56<00:00,  1.73it/s]\n"
     ]
    },
    {
     "name": "stdout",
     "output_type": "stream",
     "text": [
      "Test set: Average loss: 0.4540, Accuracy: 8417/10000 (84.17%)\n",
      "\n",
      "Adjusting learning rate of group 0 to 1.0000e-04.\n",
      "Epoch 47\n"
     ]
    },
    {
     "name": "stderr",
     "output_type": "stream",
     "text": [
      "Train: Loss=0.5050 Batch_id=97 Accuracy=82.36: 100%|███████████████████████████████████| 98/98 [00:56<00:00,  1.72it/s]\n"
     ]
    },
    {
     "name": "stdout",
     "output_type": "stream",
     "text": [
      "Test set: Average loss: 0.4514, Accuracy: 8422/10000 (84.22%)\n",
      "\n",
      "Adjusting learning rate of group 0 to 1.0000e-04.\n",
      "Epoch 48\n"
     ]
    },
    {
     "name": "stderr",
     "output_type": "stream",
     "text": [
      "Train: Loss=0.5650 Batch_id=97 Accuracy=82.16: 100%|███████████████████████████████████| 98/98 [00:57<00:00,  1.71it/s]\n"
     ]
    },
    {
     "name": "stdout",
     "output_type": "stream",
     "text": [
      "Test set: Average loss: 0.4514, Accuracy: 8432/10000 (84.32%)\n",
      "\n",
      "Adjusting learning rate of group 0 to 1.0000e-04.\n",
      "Epoch 49\n"
     ]
    },
    {
     "name": "stderr",
     "output_type": "stream",
     "text": [
      "Train: Loss=0.5793 Batch_id=97 Accuracy=82.48: 100%|███████████████████████████████████| 98/98 [00:56<00:00,  1.74it/s]\n"
     ]
    },
    {
     "name": "stdout",
     "output_type": "stream",
     "text": [
      "Test set: Average loss: 0.4500, Accuracy: 8438/10000 (84.38%)\n",
      "\n",
      "Adjusting learning rate of group 0 to 1.0000e-04.\n",
      "Epoch 50\n"
     ]
    },
    {
     "name": "stderr",
     "output_type": "stream",
     "text": [
      "Train: Loss=0.4913 Batch_id=97 Accuracy=82.54: 100%|███████████████████████████████████| 98/98 [00:56<00:00,  1.73it/s]\n"
     ]
    },
    {
     "name": "stdout",
     "output_type": "stream",
     "text": [
      "Test set: Average loss: 0.4509, Accuracy: 8424/10000 (84.24%)\n",
      "\n",
      "Adjusting learning rate of group 0 to 1.0000e-04.\n",
      "Epoch 51\n"
     ]
    },
    {
     "name": "stderr",
     "output_type": "stream",
     "text": [
      "Train: Loss=0.4933 Batch_id=97 Accuracy=82.53: 100%|███████████████████████████████████| 98/98 [00:56<00:00,  1.75it/s]\n"
     ]
    },
    {
     "name": "stdout",
     "output_type": "stream",
     "text": [
      "Test set: Average loss: 0.4509, Accuracy: 8424/10000 (84.24%)\n",
      "\n",
      "Adjusting learning rate of group 0 to 1.0000e-04.\n",
      "Epoch 52\n"
     ]
    },
    {
     "name": "stderr",
     "output_type": "stream",
     "text": [
      "Train: Loss=0.5085 Batch_id=97 Accuracy=82.37: 100%|███████████████████████████████████| 98/98 [00:56<00:00,  1.72it/s]\n"
     ]
    },
    {
     "name": "stdout",
     "output_type": "stream",
     "text": [
      "Test set: Average loss: 0.4515, Accuracy: 8427/10000 (84.27%)\n",
      "\n",
      "Adjusting learning rate of group 0 to 1.0000e-04.\n",
      "Epoch 53\n"
     ]
    },
    {
     "name": "stderr",
     "output_type": "stream",
     "text": [
      "Train: Loss=0.5080 Batch_id=97 Accuracy=82.58: 100%|███████████████████████████████████| 98/98 [00:57<00:00,  1.69it/s]\n"
     ]
    },
    {
     "name": "stdout",
     "output_type": "stream",
     "text": [
      "Test set: Average loss: 0.4513, Accuracy: 8423/10000 (84.23%)\n",
      "\n",
      "Adjusting learning rate of group 0 to 1.0000e-04.\n",
      "Epoch 54\n"
     ]
    },
    {
     "name": "stderr",
     "output_type": "stream",
     "text": [
      "Train: Loss=0.4753 Batch_id=97 Accuracy=82.30: 100%|███████████████████████████████████| 98/98 [00:56<00:00,  1.72it/s]\n"
     ]
    },
    {
     "name": "stdout",
     "output_type": "stream",
     "text": [
      "Test set: Average loss: 0.4514, Accuracy: 8419/10000 (84.19%)\n",
      "\n",
      "Adjusting learning rate of group 0 to 1.0000e-04.\n",
      "Epoch 55\n"
     ]
    },
    {
     "name": "stderr",
     "output_type": "stream",
     "text": [
      "Train: Loss=0.5507 Batch_id=97 Accuracy=82.53: 100%|███████████████████████████████████| 98/98 [00:56<00:00,  1.73it/s]\n"
     ]
    },
    {
     "name": "stdout",
     "output_type": "stream",
     "text": [
      "Test set: Average loss: 0.4508, Accuracy: 8417/10000 (84.17%)\n",
      "\n",
      "Adjusting learning rate of group 0 to 1.0000e-04.\n",
      "Epoch 56\n"
     ]
    },
    {
     "name": "stderr",
     "output_type": "stream",
     "text": [
      "Train: Loss=0.4305 Batch_id=97 Accuracy=82.51: 100%|███████████████████████████████████| 98/98 [00:56<00:00,  1.72it/s]\n"
     ]
    },
    {
     "name": "stdout",
     "output_type": "stream",
     "text": [
      "Test set: Average loss: 0.4502, Accuracy: 8429/10000 (84.29%)\n",
      "\n",
      "Adjusting learning rate of group 0 to 1.0000e-04.\n",
      "Epoch 57\n"
     ]
    },
    {
     "name": "stderr",
     "output_type": "stream",
     "text": [
      "Train: Loss=0.5409 Batch_id=97 Accuracy=82.48: 100%|███████████████████████████████████| 98/98 [00:57<00:00,  1.72it/s]\n"
     ]
    },
    {
     "name": "stdout",
     "output_type": "stream",
     "text": [
      "Test set: Average loss: 0.4504, Accuracy: 8430/10000 (84.30%)\n",
      "\n",
      "Adjusting learning rate of group 0 to 1.0000e-04.\n",
      "Epoch 58\n"
     ]
    },
    {
     "name": "stderr",
     "output_type": "stream",
     "text": [
      "Train: Loss=0.5184 Batch_id=97 Accuracy=82.41: 100%|███████████████████████████████████| 98/98 [00:56<00:00,  1.72it/s]\n"
     ]
    },
    {
     "name": "stdout",
     "output_type": "stream",
     "text": [
      "Test set: Average loss: 0.4505, Accuracy: 8429/10000 (84.29%)\n",
      "\n",
      "Adjusting learning rate of group 0 to 1.0000e-04.\n",
      "Epoch 59\n"
     ]
    },
    {
     "name": "stderr",
     "output_type": "stream",
     "text": [
      "Train: Loss=0.5116 Batch_id=97 Accuracy=82.40: 100%|███████████████████████████████████| 98/98 [00:56<00:00,  1.73it/s]\n"
     ]
    },
    {
     "name": "stdout",
     "output_type": "stream",
     "text": [
      "Test set: Average loss: 0.4495, Accuracy: 8430/10000 (84.30%)\n",
      "\n",
      "Adjusting learning rate of group 0 to 1.0000e-04.\n",
      "Epoch 60\n"
     ]
    },
    {
     "name": "stderr",
     "output_type": "stream",
     "text": [
      "Train: Loss=0.5385 Batch_id=97 Accuracy=82.51: 100%|███████████████████████████████████| 98/98 [00:56<00:00,  1.73it/s]\n"
     ]
    },
    {
     "name": "stdout",
     "output_type": "stream",
     "text": [
      "Test set: Average loss: 0.4510, Accuracy: 8423/10000 (84.23%)\n",
      "\n",
      "Adjusting learning rate of group 0 to 1.0000e-05.\n"
     ]
    }
   ],
   "source": [
    "# Data to plot accuracy and loss graphs\n",
    "train_losses = []\n",
    "test_losses = []\n",
    "train_acc = []\n",
    "test_acc = []\n",
    "\n",
    "optimizer = optim.SGD(myFirstModel.parameters(), lr=0.1, momentum=0.9)\n",
    "scheduler = optim.lr_scheduler.StepLR(optimizer, step_size=15, gamma=0.1, verbose=True)\n",
    "#scheduler = optim.lr_scheduler.ReduceLROnPlateau(optimizer, 'min',factor=0.5, patience=3, verbose=True)\n",
    "#scheduler = torch.optim.lr_scheduler.OneCycleLR(optimizer, max_lr=0.01, steps_per_epoch=98, epochs=10)\n",
    "\n",
    "\n",
    "# New Line\n",
    "criterion = F.nll_loss\n",
    "num_epochs = 60\n",
    "\n",
    "for epoch in range(1, num_epochs+1):\n",
    "  print(f'Epoch {epoch}')\n",
    "  tr_Acc, tr_loss = utils.train(myFirstModel, train_loader, optimizer, criterion)\n",
    "  tst_acc, tst_loss = utils.test(myFirstModel, test_loader, criterion)\n",
    "  train_acc.append(tr_Acc)\n",
    "  train_losses.append(tr_loss)\n",
    "  test_acc.append(tst_acc)\n",
    "  test_losses.append(tst_loss)\n",
    "  #scheduler.step()\n",
    "  scheduler.step()"
   ]
  },
  {
   "cell_type": "markdown",
   "metadata": {
    "id": "B-LM-Z1k6FcF"
   },
   "source": [
    "Plot the train and test accuracy"
   ]
  },
  {
   "cell_type": "code",
   "execution_count": null,
   "metadata": {
    "colab": {
     "base_uri": "https://localhost:8080/",
     "height": 871
    },
    "id": "Wu0l7dli4eC9",
    "outputId": "cd1fcdab-0c0f-41dc-d1c9-6b80f9eb7915"
   },
   "outputs": [],
   "source": [
    "utils.printModelTrainTestAccuracy(train_acc, train_losses, test_acc, test_losses)"
   ]
  }
 ],
 "metadata": {
  "accelerator": "GPU",
  "colab": {
   "gpuType": "T4",
   "provenance": []
  },
  "gpuClass": "standard",
  "kernelspec": {
   "display_name": "Python 3 (ipykernel)",
   "language": "python",
   "name": "python3"
  },
  "language_info": {
   "codemirror_mode": {
    "name": "ipython",
    "version": 3
   },
   "file_extension": ".py",
   "mimetype": "text/x-python",
   "name": "python",
   "nbconvert_exporter": "python",
   "pygments_lexer": "ipython3",
   "version": "3.11.3"
  }
 },
 "nbformat": 4,
 "nbformat_minor": 1
}
