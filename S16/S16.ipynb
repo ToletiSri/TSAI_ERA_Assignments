{
 "cells": [
  {
   "cell_type": "markdown",
   "metadata": {
    "_cell_guid": "b1076dfc-b9ad-4769-8c92-a6c4dae69d19",
    "_uuid": "8f2839f25d086af736a60e9eeb907d3b93b6e0e5"
   },
   "source": [
    "!cd /kaggle/working"
   ]
  },
  {
   "cell_type": "code",
   "execution_count": 1,
   "metadata": {
    "execution": {
     "iopub.execute_input": "2023-09-08T04:04:19.042546Z",
     "iopub.status.busy": "2023-09-08T04:04:19.042029Z",
     "iopub.status.idle": "2023-09-08T04:04:23.131730Z",
     "shell.execute_reply": "2023-09-08T04:04:23.130486Z",
     "shell.execute_reply.started": "2023-09-08T04:04:19.042504Z"
    }
   },
   "outputs": [
    {
     "name": "stdout",
     "output_type": "stream",
     "text": [
      "Cloning into 'TSAI_ERA_Assignments'...\n",
      "remote: Enumerating objects: 482, done.\u001b[K\n",
      "remote: Counting objects: 100% (287/287), done.\u001b[K\n",
      "remote: Compressing objects: 100% (144/144), done.\u001b[K\n",
      "remote: Total 482 (delta 190), reused 212 (delta 141), pack-reused 195\u001b[K\n",
      "Receiving objects: 100% (482/482), 10.47 MiB | 13.95 MiB/s, done.\n",
      "Resolving deltas: 100% (264/264), done.\n"
     ]
    }
   ],
   "source": [
    "!rm -vrf TSAI_ERA_Assignments\n",
    "!git clone https://github.com/ToletiSri/TSAI_ERA_Assignments.git"
   ]
  },
  {
   "cell_type": "code",
   "execution_count": 2,
   "metadata": {
    "execution": {
     "iopub.execute_input": "2023-09-08T04:04:30.992086Z",
     "iopub.status.busy": "2023-09-08T04:04:30.991678Z",
     "iopub.status.idle": "2023-09-08T04:04:31.000955Z",
     "shell.execute_reply": "2023-09-08T04:04:30.999250Z",
     "shell.execute_reply.started": "2023-09-08T04:04:30.992047Z"
    }
   },
   "outputs": [
    {
     "name": "stdout",
     "output_type": "stream",
     "text": [
      "/kaggle/working/TSAI_ERA_Assignments/S16\n"
     ]
    }
   ],
   "source": [
    "cd TSAI_ERA_Assignments/S16"
   ]
  },
  {
   "cell_type": "code",
   "execution_count": 3,
   "metadata": {
    "execution": {
     "iopub.execute_input": "2023-09-08T04:04:34.584711Z",
     "iopub.status.busy": "2023-09-08T04:04:34.584319Z",
     "iopub.status.idle": "2023-09-08T04:04:34.593149Z",
     "shell.execute_reply": "2023-09-08T04:04:34.591791Z",
     "shell.execute_reply.started": "2023-09-08T04:04:34.584679Z"
    }
   },
   "outputs": [],
   "source": [
    "from config import get_config\n",
    "cfg = get_config()\n",
    "cfg['batch_size'] = 6\n",
    "cfg['preload'] = None\n",
    "cfg['num_epochs'] = 90"
   ]
  },
  {
   "cell_type": "code",
   "execution_count": 4,
   "metadata": {
    "execution": {
     "iopub.execute_input": "2023-09-08T04:04:41.379326Z",
     "iopub.status.busy": "2023-09-08T04:04:41.378851Z",
     "iopub.status.idle": "2023-09-08T04:04:58.392347Z",
     "shell.execute_reply": "2023-09-08T04:04:58.390019Z",
     "shell.execute_reply.started": "2023-09-08T04:04:41.379279Z"
    }
   },
   "outputs": [
    {
     "name": "stderr",
     "output_type": "stream",
     "text": [
      "/opt/conda/lib/python3.10/site-packages/scipy/__init__.py:146: UserWarning: A NumPy version >=1.16.5 and <1.23.0 is required for this version of SciPy (detected version 1.23.5\n",
      "  warnings.warn(f\"A NumPy version >={np_minversion} and <{np_maxversion}\"\n",
      "stty: 'standard input': Inappropriate ioctl for device\n"
     ]
    }
   ],
   "source": [
    "import LightningModel\n",
    "from pytorch_lightning import LightningModule\n",
    "\n",
    "myLitmodel = LightningModel.LitTransformer(cfg)\n",
    "myLitmodel.automatic_optimization = False"
   ]
  },
  {
   "cell_type": "code",
   "execution_count": 5,
   "metadata": {
    "execution": {
     "iopub.execute_input": "2023-09-08T04:05:27.452856Z",
     "iopub.status.busy": "2023-09-08T04:05:27.452465Z",
     "iopub.status.idle": "2023-09-08T15:15:35.189557Z",
     "shell.execute_reply": "2023-09-08T15:15:35.184180Z",
     "shell.execute_reply.started": "2023-09-08T04:05:27.452822Z"
    }
   },
   "outputs": [
    {
     "name": "stderr",
     "output_type": "stream",
     "text": [
      "/opt/conda/lib/python3.10/site-packages/lightning_fabric/connector.py:554: UserWarning: 16 is supported for historical reasons but its usage is discouraged. Please set your precision to 16-mixed instead!\n",
      "  rank_zero_warn(\n"
     ]
    },
    {
     "data": {
      "application/vnd.jupyter.widget-view+json": {
       "model_id": "fbb4018839854492ade1dfdad5d73c78",
       "version_major": 2,
       "version_minor": 0
      },
      "text/plain": [
       "Downloading builder script:   0%|          | 0.00/2.40k [00:00<?, ?B/s]"
      ]
     },
     "metadata": {},
     "output_type": "display_data"
    },
    {
     "data": {
      "application/vnd.jupyter.widget-view+json": {
       "model_id": "29c9f12c05784dd3921531e3332ad5d4",
       "version_major": 2,
       "version_minor": 0
      },
      "text/plain": [
       "Downloading metadata:   0%|          | 0.00/7.98k [00:00<?, ?B/s]"
      ]
     },
     "metadata": {},
     "output_type": "display_data"
    },
    {
     "name": "stdout",
     "output_type": "stream",
     "text": [
      "Downloading and preparing dataset opus_books/en-fr (download: 11.45 MiB, generated: 31.47 MiB, post-processed: Unknown size, total: 42.92 MiB) to /root/.cache/huggingface/datasets/opus_books/en-fr/1.0.0/e8f950a4f32dc39b7f9088908216cd2d7e21ac35f893d04d39eb594746af2daf...\n"
     ]
    },
    {
     "data": {
      "application/vnd.jupyter.widget-view+json": {
       "model_id": "2ad6c8ee68e149bb936d06a5e0e0dba7",
       "version_major": 2,
       "version_minor": 0
      },
      "text/plain": [
       "Downloading data:   0%|          | 0.00/12.0M [00:00<?, ?B/s]"
      ]
     },
     "metadata": {},
     "output_type": "display_data"
    },
    {
     "data": {
      "application/vnd.jupyter.widget-view+json": {
       "model_id": "",
       "version_major": 2,
       "version_minor": 0
      },
      "text/plain": [
       "Generating train split:   0%|          | 0/127085 [00:00<?, ? examples/s]"
      ]
     },
     "metadata": {},
     "output_type": "display_data"
    },
    {
     "name": "stdout",
     "output_type": "stream",
     "text": [
      "Dataset opus_books downloaded and prepared to /root/.cache/huggingface/datasets/opus_books/en-fr/1.0.0/e8f950a4f32dc39b7f9088908216cd2d7e21ac35f893d04d39eb594746af2daf. Subsequent calls will reuse this data.\n"
     ]
    },
    {
     "data": {
      "application/vnd.jupyter.widget-view+json": {
       "model_id": "e425a206330f4f5b8799bebcb661f3e4",
       "version_major": 2,
       "version_minor": 0
      },
      "text/plain": [
       "  0%|          | 0/128 [00:00<?, ?ba/s]"
      ]
     },
     "metadata": {},
     "output_type": "display_data"
    },
    {
     "name": "stdout",
     "output_type": "stream",
     "text": [
      "Max length of source sentence: 45\n",
      "Max length of target sentence: 48\n"
     ]
    },
    {
     "data": {
      "application/vnd.jupyter.widget-view+json": {
       "model_id": "",
       "version_major": 2,
       "version_minor": 0
      },
      "text/plain": [
       "Sanity Checking: 0it [00:00, ?it/s]"
      ]
     },
     "metadata": {},
     "output_type": "display_data"
    },
    {
     "name": "stderr",
     "output_type": "stream",
     "text": [
      "/opt/conda/lib/python3.10/site-packages/pytorch_lightning/trainer/connectors/data_connector.py:486: PossibleUserWarning: Your `val_dataloader`'s sampler has shuffling enabled, it is strongly recommended that you turn shuffling off for val/test dataloaders.\n",
      "  rank_zero_warn(\n"
     ]
    },
    {
     "name": "stdout",
     "output_type": "stream",
     "text": [
      "--------------------------------------------------------------------------------\n",
      "    SOURCE: The Celtic dolmen and cromlech, the Etruscan tumulus, the Hebrew galgal, are words.\n",
      "    TARGET: Le dolmen et le cromlech celtes, le tumulus étrusque, le galgal hébreu, sont des mots.\n",
      " PREDICTED: filaient filaient filaient filaient coucherai coucherai coucherai coucherai filaient chasse chasse chasse chasse chasse chasse chasse chasse chasse chasse chasse chasse chasse chasse chasse chasse chasse bée Mole avenir bée bée bée chasse bée chasse bée chasse bée bée bée bée Mole chasse bée Mole chasse bée Mole sorte Mole chasse Mole Mole Mole sorte Mole sorte Mole bée Mole Lion Lion Lion Lion bée Mole bée Mole bée chasse bée chasse bée chasse bée Mole chasse Mole bée Mole Lion Lion Lion Lion Lion bée avenir bée Lion Lion Lion Lion Lion Lion Lion Lion filaient Lion Lion Lion Lion bée bée bée bée bée bée Lion Lion Lion Lion Lion Lion bée bée bée bée Lion Lion Lion Lion Lion Lion Lion Lion bée bée bée bée bée bée bée bée bée bée bée bée bée Lion Lion Lion Lion Lion Lion Lion Lion Lion Lion Lion Lion Lion Lion Lion Lion Lion Lion Lion Lion Lion\n",
      "--------------------------------------------------------------------------------\n",
      "--------------------------------------------------------------------------------\n",
      "    SOURCE: Then she crouched down gracefully on her couch, with her goat asleep at her feet.\n",
      "    TARGET: Alors elle s’accroupit gracieusement sur sa couchette avec sa chèvre endormie à ses pieds.\n",
      " PREDICTED: filaient filaient filaient filaient filaient filaient filaient filaient filaient filaient filaient filaient chasse chasse chasse chasse truande filaient filaient filaient filaient filaient filaient filaient truande filaient avenir filaient avenir filaient filaient filaient filaient chasse chasse truande filaient filaient filaient filaient filaient filaient truande Lion Lion Lion Lion Lion truande truande truande truande Lion Lion Lion Lion Lion Lion Lion Lion Lion Lion Lion filaient filaient filaient filaient filaient filaient filaient filaient filaient filaient filaient filaient filaient filaient filaient filaient Lion Lion Lion filaient filaient filaient filaient filaient Lion Lion filaient filaient filaient filaient filaient filaient filaient filaient filaient filaient filaient filaient filaient filaient filaient filaient filaient filaient filaient filaient filaient filaient filaient filaient filaient filaient filaient filaient filaient filaient filaient filaient filaient filaient filaient filaient filaient filaient filaient filaient filaient filaient filaient filaient filaient filaient filaient filaient filaient filaient filaient Lion Lion Lion Lion Lion filaient filaient filaient filaient filaient filaient filaient filaient filaient filaient filaient filaient filaient Lion\n",
      "--------------------------------------------------------------------------------\n"
     ]
    },
    {
     "name": "stderr",
     "output_type": "stream",
     "text": [
      "/opt/conda/lib/python3.10/site-packages/torchmetrics/utilities/prints.py:62: FutureWarning: Importing `CharErrorRate` from `torchmetrics` was deprecated and will be removed in 2.0. Import `CharErrorRate` from `torchmetrics.text` instead.\n",
      "  _future_warning(\n",
      "/opt/conda/lib/python3.10/site-packages/torchmetrics/utilities/prints.py:62: FutureWarning: Importing `WordErrorRate` from `torchmetrics` was deprecated and will be removed in 2.0. Import `WordErrorRate` from `torchmetrics.text` instead.\n",
      "  _future_warning(\n",
      "/opt/conda/lib/python3.10/site-packages/torchmetrics/utilities/prints.py:62: FutureWarning: Importing `BLEUScore` from `torchmetrics` was deprecated and will be removed in 2.0. Import `BLEUScore` from `torchmetrics.text` instead.\n",
      "  _future_warning(\n"
     ]
    },
    {
     "data": {
      "application/vnd.jupyter.widget-view+json": {
       "model_id": "da6dabae4a684095b33249cc1ec2984b",
       "version_major": 2,
       "version_minor": 0
      },
      "text/plain": [
       "Training: 0it [00:00, ?it/s]"
      ]
     },
     "metadata": {},
     "output_type": "display_data"
    },
    {
     "data": {
      "application/vnd.jupyter.widget-view+json": {
       "model_id": "",
       "version_major": 2,
       "version_minor": 0
      },
      "text/plain": [
       "Validation: 0it [00:00, ?it/s]"
      ]
     },
     "metadata": {},
     "output_type": "display_data"
    },
    {
     "name": "stdout",
     "output_type": "stream",
     "text": [
      "--------------------------------------------------------------------------------\n",
      "    SOURCE: Do you see?\"\n",
      "    TARGET: Vous voyez ?\n",
      " PREDICTED: Vous le voyez ?\n",
      "--------------------------------------------------------------------------------\n",
      "--------------------------------------------------------------------------------\n",
      "    SOURCE: The remoras I had observed in the Mediterranean were related to this species.\n",
      "    TARGET: Le rémora, que j'avais observé dans la Méditerranée, appartient à cette espèce.\n",
      " PREDICTED: La je ne me vis pas à la route de cette femme .\n",
      "--------------------------------------------------------------------------------\n",
      "Mean training loss at end of epoch 0 = 5.416424022531033\n",
      "LR at end of epoch 0 = [0.00011999265391461587]\n"
     ]
    },
    {
     "data": {
      "application/vnd.jupyter.widget-view+json": {
       "model_id": "",
       "version_major": 2,
       "version_minor": 0
      },
      "text/plain": [
       "Validation: 0it [00:00, ?it/s]"
      ]
     },
     "metadata": {},
     "output_type": "display_data"
    },
    {
     "name": "stdout",
     "output_type": "stream",
     "text": [
      "--------------------------------------------------------------------------------\n",
      "    SOURCE: He remained thus immured for several weeks.\n",
      "    TARGET: Il resta muré de cette sorte plusieurs semaines.\n",
      " PREDICTED: Il resta ainsi à plusieurs animaux .\n",
      "--------------------------------------------------------------------------------\n",
      "--------------------------------------------------------------------------------\n",
      "    SOURCE: And do you know how many grains one ear bears?\"\n",
      "    TARGET: Et savez-vous combien un épi porte de grains?\n",
      " PREDICTED: Et vous savez comment on sait comment on vous a un coup ?\n",
      "--------------------------------------------------------------------------------\n",
      "Mean training loss at end of epoch 1 = 4.386654057707529\n",
      "LR at end of epoch 1 = [0.0001399834242175948]\n"
     ]
    },
    {
     "data": {
      "application/vnd.jupyter.widget-view+json": {
       "model_id": "",
       "version_major": 2,
       "version_minor": 0
      },
      "text/plain": [
       "Validation: 0it [00:00, ?it/s]"
      ]
     },
     "metadata": {},
     "output_type": "display_data"
    },
    {
     "name": "stdout",
     "output_type": "stream",
     "text": [
      "--------------------------------------------------------------------------------\n",
      "    SOURCE: On avait apporté avec les habits une belle paire de bottes neuves.\n",
      "    TARGET: With these had come a fine pair of new boots.\n",
      " PREDICTED: They had with the of the of the of the .\n",
      "--------------------------------------------------------------------------------\n",
      "--------------------------------------------------------------------------------\n",
      "    SOURCE: 'Very well, Sir, since you force me to it, I take you boldly as an example.\n",
      "    TARGET: Eh bien, Monsieur, puisque vous m’y forcez, je vous prends hardiment pour exemple.\n",
      " PREDICTED: – Eh bien , Sir , puisque vous me , je vous prie de vous faire un exemple .\n",
      "--------------------------------------------------------------------------------\n",
      "Mean training loss at end of epoch 2 = 3.866343136942079\n",
      "LR at end of epoch 2 = [0.00015997419452057373]\n"
     ]
    },
    {
     "data": {
      "application/vnd.jupyter.widget-view+json": {
       "model_id": "",
       "version_major": 2,
       "version_minor": 0
      },
      "text/plain": [
       "Validation: 0it [00:00, ?it/s]"
      ]
     },
     "metadata": {},
     "output_type": "display_data"
    },
    {
     "name": "stdout",
     "output_type": "stream",
     "text": [
      "--------------------------------------------------------------------------------\n",
      "    SOURCE: \"He can do no more! he can do no more!\n",
      "    TARGET: —Il ne peut plus! il ne peut plus!…\n",
      " PREDICTED: -- Il ne peut plus , il peut faire plus !\n",
      "--------------------------------------------------------------------------------\n",
      "--------------------------------------------------------------------------------\n",
      "    SOURCE: \"We will begin our researches as soon as possible.\n",
      "    TARGET: Nous commencerons nos recherches le plus tôt possible.\n",
      " PREDICTED: -- Nous nos recherches jusqu ' à la promenade .\n",
      "--------------------------------------------------------------------------------\n",
      "Mean training loss at end of epoch 3 = 3.530231133830325\n",
      "LR at end of epoch 3 = [0.00017996496482355266]\n"
     ]
    },
    {
     "data": {
      "application/vnd.jupyter.widget-view+json": {
       "model_id": "",
       "version_major": 2,
       "version_minor": 0
      },
      "text/plain": [
       "Validation: 0it [00:00, ?it/s]"
      ]
     },
     "metadata": {},
     "output_type": "display_data"
    },
    {
     "name": "stdout",
     "output_type": "stream",
     "text": [
      "--------------------------------------------------------------------------------\n",
      "    SOURCE: Et elle se disposait à être fort impertinente dans ses répliques, quand une pensée l’illumina ; elle vit le second portefeuille intact.\n",
      "    TARGET: And she was preparing to be highly impertinent in her replies, when a sudden thought came to her; she saw the second portfolio intact.\n",
      " PREDICTED: And she took a very well in the of his , when her face was to see him ; she saw the second enemy .\n",
      "--------------------------------------------------------------------------------\n",
      "--------------------------------------------------------------------------------\n",
      "    SOURCE: But if Julien had been in love with her he would have seen her, behind her half-closed shutters on the first floor, her face pressed to the glass.\n",
      "    TARGET: Mais si Julien l’eût aimée, il l’eût aperçue derrière les persiennes à demi fermées du premier étage, le front appuyé contre la vitre.\n",
      " PREDICTED: Mais si Julien avait été amoureux de son amour , il l ’ eût vu , derrière ses volets à demi - voix , la visage tremblante de toile .\n",
      "--------------------------------------------------------------------------------\n",
      "Mean training loss at end of epoch 4 = 3.2937228005133146\n",
      "LR at end of epoch 4 = [0.00019995761873816854]\n"
     ]
    },
    {
     "data": {
      "application/vnd.jupyter.widget-view+json": {
       "model_id": "",
       "version_major": 2,
       "version_minor": 0
      },
      "text/plain": [
       "Validation: 0it [00:00, ?it/s]"
      ]
     },
     "metadata": {},
     "output_type": "display_data"
    },
    {
     "name": "stdout",
     "output_type": "stream",
     "text": [
      "--------------------------------------------------------------------------------\n",
      "    SOURCE: The moment that Julien became aware of his own folly, his interest revived.\n",
      "    TARGET: Du moment que Julien se fut aperçu de sa folie, il ne s’ennuya plus.\n",
      " PREDICTED: Le moment que Julien sentit sa sottise , son intérêt .\n",
      "--------------------------------------------------------------------------------\n",
      "--------------------------------------------------------------------------------\n",
      "    SOURCE: \"No, it wouldn't be advisable,\" replied Nemo the Emotionless.\n",
      "    TARGET: -- Non, ce ne serait pas prudent », répondit l'impassible Nemo.\n",
      " PREDICTED: -- Non , ce n ' aurait pas voulu être , répondit le Canadien .\n",
      "--------------------------------------------------------------------------------\n",
      "Mean training loss at end of epoch 5 = 3.115123061950563\n",
      "LR at end of epoch 5 = [0.00021994838904114747]\n"
     ]
    },
    {
     "data": {
      "application/vnd.jupyter.widget-view+json": {
       "model_id": "",
       "version_major": 2,
       "version_minor": 0
      },
      "text/plain": [
       "Validation: 0it [00:00, ?it/s]"
      ]
     },
     "metadata": {},
     "output_type": "display_data"
    },
    {
     "name": "stdout",
     "output_type": "stream",
     "text": [
      "--------------------------------------------------------------------------------\n",
      "    SOURCE: And yet on looking into his eyes, the reporter thought he could see that all reason was not extinguished in him.\n",
      "    TARGET: Et cependant, en le regardant bien dans les yeux, le reporter crut voir que toute raison n'était pas éteinte en lui.\n",
      " PREDICTED: Et , toujours , regardant ses yeux , le reporter crut devoir de ne pas être hors d ' eux .\n",
      "--------------------------------------------------------------------------------\n",
      "--------------------------------------------------------------------------------\n",
      "    SOURCE: I understood.\n",
      "    TARGET: J'avais compris.\n",
      " PREDICTED: Je comprends .\n",
      "--------------------------------------------------------------------------------\n",
      "Mean training loss at end of epoch 6 = 2.972623528778991\n",
      "LR at end of epoch 6 = [0.0002399391593441264]\n"
     ]
    },
    {
     "data": {
      "application/vnd.jupyter.widget-view+json": {
       "model_id": "",
       "version_major": 2,
       "version_minor": 0
      },
      "text/plain": [
       "Validation: 0it [00:00, ?it/s]"
      ]
     },
     "metadata": {},
     "output_type": "display_data"
    },
    {
     "name": "stdout",
     "output_type": "stream",
     "text": [
      "--------------------------------------------------------------------------------\n",
      "    SOURCE: Then do not let us feel sad. Let us try to forget.\n",
      "    TARGET: Que diable! ne nous attristons pas, tâchons d'oublier….\n",
      " PREDICTED: Puis , ne perdons pas de triste , tâchez d ’ oublier .\n",
      "--------------------------------------------------------------------------------\n",
      "--------------------------------------------------------------------------------\n",
      "    SOURCE: 'My death will increase the scorn that she feels for me!' he exclaimed.\n",
      "    TARGET: Ma mort augmentera le mépris qu’elle a pour moi! s’écria-t-il.\n",
      " PREDICTED: Ma mort fera un mépris qui se sent de moi ! s ’ écria - t - il .\n",
      "--------------------------------------------------------------------------------\n",
      "Mean training loss at end of epoch 7 = 2.8537943300093427\n",
      "LR at end of epoch 7 = [0.00025992992964710533]\n"
     ]
    },
    {
     "data": {
      "application/vnd.jupyter.widget-view+json": {
       "model_id": "",
       "version_major": 2,
       "version_minor": 0
      },
      "text/plain": [
       "Validation: 0it [00:00, ?it/s]"
      ]
     },
     "metadata": {},
     "output_type": "display_data"
    },
    {
     "name": "stdout",
     "output_type": "stream",
     "text": [
      "--------------------------------------------------------------------------------\n",
      "    SOURCE: \"We ask you nothing, my friend,\" said he; \"it is your right to be silent.\"\n",
      "    TARGET: «Nous ne vous demandons rien, mon ami, dit-il. C'est votre droit de vous taire...\n",
      " PREDICTED: « Nous ne vous en demandez rien , mon ami , dit - il , c ' est votre droit de rester silencieuse .\n",
      "--------------------------------------------------------------------------------\n",
      "--------------------------------------------------------------------------------\n",
      "    SOURCE: \"’Come,’ said the wretch, ’is not peace much better than such a war as that?\n",
      "    TARGET: «-- Voyons, dit le misérable, la paix ne vaut-elle pas mieux qu'une pareille guerre?\n",
      " PREDICTED: « Voyons , dit le misérable , n ' est - ce pas une guerre à la condition qu ' une telle guerre ?\n",
      "--------------------------------------------------------------------------------\n",
      "Mean training loss at end of epoch 8 = 2.751293980069339\n",
      "LR at end of epoch 8 = [0.00027992069995008424]\n"
     ]
    },
    {
     "data": {
      "application/vnd.jupyter.widget-view+json": {
       "model_id": "",
       "version_major": 2,
       "version_minor": 0
      },
      "text/plain": [
       "Validation: 0it [00:00, ?it/s]"
      ]
     },
     "metadata": {},
     "output_type": "display_data"
    },
    {
     "name": "stdout",
     "output_type": "stream",
     "text": [
      "--------------------------------------------------------------------------------\n",
      "    SOURCE: Après plus de deux heures de marche triomphale, il vit que l’on allait passer à l’extrémité de la rue où était situé le palais Sanseverina.\n",
      "    TARGET: After more than two hours of this triumphal march, he saw that they were about to pass the end of the street in which the palazzo Sanseverina stood.\n",
      " PREDICTED: After a case of course of all were , he saw that the end of the end of the street which to the palazzo .\"\n",
      "--------------------------------------------------------------------------------\n",
      "--------------------------------------------------------------------------------\n",
      "    SOURCE: Camille laughed, and, as his wife confined herself to answering his friend in monosyllables, he firmly believed they detested one another.\n",
      "    TARGET: Camille riait, et, comme sa femme ne répondait à son ami que par des monosyllabes, il croyait fermement qu'ils se détestaient tous deux.\n",
      " PREDICTED: Camille se mit à rire , comme sa femme se à lui - même son amie dans la pensée qu ' il croyait reconnaître une autre .\n",
      "--------------------------------------------------------------------------------\n",
      "Mean training loss at end of epoch 9 = 2.661557013850626\n",
      "LR at end of epoch 9 = [0.00029991335386470014]\n"
     ]
    },
    {
     "data": {
      "application/vnd.jupyter.widget-view+json": {
       "model_id": "",
       "version_major": 2,
       "version_minor": 0
      },
      "text/plain": [
       "Validation: 0it [00:00, ?it/s]"
      ]
     },
     "metadata": {},
     "output_type": "display_data"
    },
    {
     "name": "stdout",
     "output_type": "stream",
     "text": [
      "--------------------------------------------------------------------------------\n",
      "    SOURCE: When the man in the hired up-river boat sees anyone he knows, he gets out on to the bank, and hides behind a tree.\n",
      "    TARGET: S’il aperçoit une de ses connaissances, il gagne aussitôt la rive, et se cache derriere un arbre.\n",
      " PREDICTED: Quand l ’ homme se traversait de la Tamise , on sait qu ’ il sait , il se met sur le terri , et il finit par un arbre .\n",
      "--------------------------------------------------------------------------------\n",
      "--------------------------------------------------------------------------------\n",
      "    SOURCE: \"It's a kid!\" cried several of the fighting-men. \"Some cove is a gammonin' us.\"\n",
      "    TARGET: -- C'est un chevreau, crièrent plusieurs boxeurs, quelque gamin qui nous fait poser.\n",
      " PREDICTED: -- C ' est un passager continu ! s ' écria plusieurs homme au combat . Un homme de « Un - nous !\n",
      "--------------------------------------------------------------------------------\n",
      "Mean training loss at end of epoch 10 = 2.5592042132833175\n",
      "LR at end of epoch 10 = [0.00028009587583232085]\n"
     ]
    },
    {
     "data": {
      "application/vnd.jupyter.widget-view+json": {
       "model_id": "",
       "version_major": 2,
       "version_minor": 0
      },
      "text/plain": [
       "Validation: 0it [00:00, ?it/s]"
      ]
     },
     "metadata": {},
     "output_type": "display_data"
    },
    {
     "name": "stdout",
     "output_type": "stream",
     "text": [
      "--------------------------------------------------------------------------------\n",
      "    SOURCE: We were making our way along the road about seven in the morning, in the middle of winter.\n",
      "    TARGET: Nous revenions sur la route vers sept heures du matin, en plein hiver.\n",
      " PREDICTED: Nous le lendemain , à sept heures du matin , au milieu de l ’ hiver .\n",
      "--------------------------------------------------------------------------------\n",
      "--------------------------------------------------------------------------------\n",
      "    SOURCE: You could ruin yourself like this !'\n",
      "    TARGET: Vous avez pu vous perdre ainsi ! »\n",
      " PREDICTED: Vous devriez vous perdre comme cela ! »\n",
      "--------------------------------------------------------------------------------\n",
      "Mean training loss at end of epoch 11 = 2.413988899266255\n",
      "LR at end of epoch 11 = [0.00026010510552934194]\n"
     ]
    },
    {
     "data": {
      "application/vnd.jupyter.widget-view+json": {
       "model_id": "",
       "version_major": 2,
       "version_minor": 0
      },
      "text/plain": [
       "Validation: 0it [00:00, ?it/s]"
      ]
     },
     "metadata": {},
     "output_type": "display_data"
    },
    {
     "name": "stdout",
     "output_type": "stream",
     "text": [
      "--------------------------------------------------------------------------------\n",
      "    SOURCE: \"It isn't that big Chaval now?\" said a miner grinning; \"did that little fellow have you?\n",
      "    TARGET: —Ce n'est donc plus le grand Chaval? disait un mineur en ricanant. T'as pris ce petiot-la?\n",
      " PREDICTED: — Ça n ' est - ce pas , ce gros Chaval ? dit un garçon sourde . Ce petit garçon a vous !\n",
      "--------------------------------------------------------------------------------\n",
      "--------------------------------------------------------------------------------\n",
      "    SOURCE: He felt the hand tremble; but it was not withdrawn. On the contrary it ever and anon gave a sudden caress.\n",
      "    TARGET: Il sentait cette main trembler; mais elle ne se retirait pas, elle avait au contraire des caresses brusques.\n",
      " PREDICTED: Il sentait la main , mais il ne se retira pas ; au contraire , il se remit à courir .\n",
      "--------------------------------------------------------------------------------\n",
      "Mean training loss at end of epoch 12 = 2.290597084002388\n",
      "LR at end of epoch 12 = [0.000240114335226363]\n"
     ]
    },
    {
     "data": {
      "application/vnd.jupyter.widget-view+json": {
       "model_id": "",
       "version_major": 2,
       "version_minor": 0
      },
      "text/plain": [
       "Validation: 0it [00:00, ?it/s]"
      ]
     },
     "metadata": {},
     "output_type": "display_data"
    },
    {
     "name": "stdout",
     "output_type": "stream",
     "text": [
      "--------------------------------------------------------------------------------\n",
      "    SOURCE: \"If she has not slept we must leave her sleeping.\"\n",
      "    TARGET: Si elle n'a pas dormi, il faut la laisser dormir.\n",
      " PREDICTED: -- Si elle ne couchait pas , il faut la laisser dormir .\n",
      "--------------------------------------------------------------------------------\n",
      "--------------------------------------------------------------------------------\n",
      "    SOURCE: \"That is as much as to say, sir,\" rejoined the familiar, \"you do not believe in free will.\"\n",
      "    TARGET: Monsieur ne croit donc pas à la liberté? dit le familier.\n",
      " PREDICTED: -- C ' est ainsi que de dire , monsieur , reprit le familière , le secret ne le croira point libre .\n",
      "--------------------------------------------------------------------------------\n",
      "Mean training loss at end of epoch 13 = 2.185953708641676\n",
      "LR at end of epoch 13 = [0.00022012356492338408]\n"
     ]
    },
    {
     "data": {
      "application/vnd.jupyter.widget-view+json": {
       "model_id": "",
       "version_major": 2,
       "version_minor": 0
      },
      "text/plain": [
       "Validation: 0it [00:00, ?it/s]"
      ]
     },
     "metadata": {},
     "output_type": "display_data"
    },
    {
     "name": "stdout",
     "output_type": "stream",
     "text": [
      "--------------------------------------------------------------------------------\n",
      "    SOURCE: 'Hold your tongue, you fool,' said the Duke as he entered the room.\n",
      "    TARGET: – Taisez-vous, vous n’êtes qu’un sot, dit le duc en entrant.\n",
      " PREDICTED: « Tais - toi donc , bete , dit le duc en entrant dans la chambre .\n",
      "--------------------------------------------------------------------------------\n",
      "--------------------------------------------------------------------------------\n",
      "    SOURCE: He felt the necessity of making some conversation.\n",
      "    TARGET: Il sentit la nécessité de faire quelque conversation.\n",
      " PREDICTED: Il sentit la nécessité de gagner une conversation .\n",
      "--------------------------------------------------------------------------------\n",
      "Mean training loss at end of epoch 14 = 2.096929326235271\n",
      "LR at end of epoch 14 = [0.0002001346782320421]\n"
     ]
    },
    {
     "data": {
      "application/vnd.jupyter.widget-view+json": {
       "model_id": "",
       "version_major": 2,
       "version_minor": 0
      },
      "text/plain": [
       "Validation: 0it [00:00, ?it/s]"
      ]
     },
     "metadata": {},
     "output_type": "display_data"
    },
    {
     "name": "stdout",
     "output_type": "stream",
     "text": [
      "--------------------------------------------------------------------------------\n",
      "    SOURCE: Nothing.\"\n",
      "    TARGET: Rien!\n",
      " PREDICTED: -- Rien .\n",
      "--------------------------------------------------------------------------------\n",
      "--------------------------------------------------------------------------------\n",
      "    SOURCE: Does one excuse oneself for failing to please?\n",
      "    TARGET: Se justifie-t-on de déplaire ?\n",
      " PREDICTED: Est - ce qu ' on s ' en fichait !\n",
      "--------------------------------------------------------------------------------\n",
      "Mean training loss at end of epoch 15 = 2.0218626490800613\n",
      "LR at end of epoch 15 = [0.00018014390792906316]\n"
     ]
    },
    {
     "data": {
      "application/vnd.jupyter.widget-view+json": {
       "model_id": "",
       "version_major": 2,
       "version_minor": 0
      },
      "text/plain": [
       "Validation: 0it [00:00, ?it/s]"
      ]
     },
     "metadata": {},
     "output_type": "display_data"
    },
    {
     "name": "stdout",
     "output_type": "stream",
     "text": [
      "--------------------------------------------------------------------------------\n",
      "    SOURCE: It was a barbed arrow-head in my breast; it tore me when I tried to extract it; it sickened me when remembrance thrust it farther in.\n",
      "    TARGET: C'était comme un dard recourbé dans mon sein: si je voulais l'arracher, il me déchirait; si je l'enfonçais plus avant, il me torturait.\n",
      " PREDICTED: C ' était une double demi - lieue sur ma poitrine , une m ' telle que j ' eusse essayé de la frapper ; le jusant me le chasse plus loin .\n",
      "--------------------------------------------------------------------------------\n",
      "--------------------------------------------------------------------------------\n",
      "    SOURCE: At last I left the room, where every object had assumed that melancholy aspect which the restless solitude of the heart gives to all its surroundings.\n",
      "    TARGET: Enfin je quittai cette chambre dont les moindres objets avaient revêtu cet aspect triste que donne à tout ce qui l'entoure l'inquiète solitude du cœur.\n",
      " PREDICTED: Je laissai enfin la salle , où tous les avaient pris cette morne apparition dont le coeur passe quelque soin les murs du cœur donnait sur toutes les .\n",
      "--------------------------------------------------------------------------------\n",
      "Mean training loss at end of epoch 16 = 1.95637177576743\n",
      "LR at end of epoch 16 = [0.00016015125401444729]\n"
     ]
    },
    {
     "data": {
      "application/vnd.jupyter.widget-view+json": {
       "model_id": "",
       "version_major": 2,
       "version_minor": 0
      },
      "text/plain": [
       "Validation: 0it [00:00, ?it/s]"
      ]
     },
     "metadata": {},
     "output_type": "display_data"
    },
    {
     "name": "stdout",
     "output_type": "stream",
     "text": [
      "--------------------------------------------------------------------------------\n",
      "    SOURCE: \"I did, Jane. If any listener had heard me, he would have thought me mad: I pronounced them with such frantic energy.\"\n",
      "    TARGET: -- Oui, Jane; et si quelqu'un m'avait entendu, il m'aurait cru fou, car je les prononçai avec une énergie égarée.\n",
      " PREDICTED: -- Jane , je l ' ai entendue par qui me l ' a entendue , mais je me l ' ai livrée avec tant d ' énergie .\n",
      "--------------------------------------------------------------------------------\n",
      "--------------------------------------------------------------------------------\n",
      "    SOURCE: \"Fine!\" the Canadian put in.\n",
      "    TARGET: -- Bon ! fit le Canadien.\n",
      " PREDICTED: -- Bon ! fit le Canadien .\n",
      "--------------------------------------------------------------------------------\n",
      "Mean training loss at end of epoch 17 = 1.8954611522348885\n",
      "LR at end of epoch 17 = [0.00014015671648819444]\n"
     ]
    },
    {
     "data": {
      "application/vnd.jupyter.widget-view+json": {
       "model_id": "",
       "version_major": 2,
       "version_minor": 0
      },
      "text/plain": [
       "Validation: 0it [00:00, ?it/s]"
      ]
     },
     "metadata": {},
     "output_type": "display_data"
    },
    {
     "name": "stdout",
     "output_type": "stream",
     "text": [
      "--------------------------------------------------------------------------------\n",
      "    SOURCE: 'Show me his letters this instant, I order you'; and M. de Renal added six feet to his stature.\n",
      "    TARGET: – Montrez-moi ces lettres à l’instant, je l’ordonne ; et M. de Rênal se grandit de six pieds.\n",
      " PREDICTED: – Montrez - moi ses lettres à l ’ instant , je vous demande M . de Rênal ajouta six pieds à sa taille .\n",
      "--------------------------------------------------------------------------------\n",
      "--------------------------------------------------------------------------------\n",
      "    SOURCE: \"But what is the use of harnesses without horses?\"\n",
      "    TARGET: -- Mais que ferons-nous de nos harnais sans chevaux?\n",
      " PREDICTED: -- Mais à quoi bon de quatre cents chevaux ?\n",
      "--------------------------------------------------------------------------------\n",
      "Mean training loss at end of epoch 18 = 1.8451898223398588\n",
      "LR at end of epoch 18 = [0.0001201659461852155]\n"
     ]
    },
    {
     "data": {
      "application/vnd.jupyter.widget-view+json": {
       "model_id": "",
       "version_major": 2,
       "version_minor": 0
      },
      "text/plain": [
       "Validation: 0it [00:00, ?it/s]"
      ]
     },
     "metadata": {},
     "output_type": "display_data"
    },
    {
     "name": "stdout",
     "output_type": "stream",
     "text": [
      "--------------------------------------------------------------------------------\n",
      "    SOURCE: Its construction was continued by Darius the Great, son of Hystaspes, and probably completed by King Ptolemy II.\n",
      "    TARGET: Il fut continué par Darius, fils d'Hytaspe, et probablement achevé par Ptolémée II.\n",
      " PREDICTED: La construction fut par , son très - sang de , et par le roi .\n",
      "--------------------------------------------------------------------------------\n",
      "--------------------------------------------------------------------------------\n",
      "    SOURCE: – Je suis à vos ordres, dit Ludovic à Fabrice, voulez-vous que je porte moi-même les lettres à Parme ?\n",
      "    TARGET: \"I am at your orders,\" said Lodovico to Fabrizio; \"would you like me to take these letters myself to Parma?\n",
      " PREDICTED: \" I am at your orders ,\" asked Fabrizio to Fabrizio , \" what I have left the letters to Parma ?\"\n",
      "--------------------------------------------------------------------------------\n",
      "Mean training loss at end of epoch 19 = 1.7957053575998063\n",
      "LR at end of epoch 19 = [0.00010017329227059965]\n"
     ]
    },
    {
     "data": {
      "application/vnd.jupyter.widget-view+json": {
       "model_id": "",
       "version_major": 2,
       "version_minor": 0
      },
      "text/plain": [
       "Validation: 0it [00:00, ?it/s]"
      ]
     },
     "metadata": {},
     "output_type": "display_data"
    },
    {
     "name": "stdout",
     "output_type": "stream",
     "text": [
      "--------------------------------------------------------------------------------\n",
      "    SOURCE: Besides, besides --\"\n",
      "    TARGET: En outre…\n",
      " PREDICTED: D ' ailleurs ...\n",
      "--------------------------------------------------------------------------------\n",
      "--------------------------------------------------------------------------------\n",
      "    SOURCE: \"I must place him in the hands of guards who will take him into camp.\"\n",
      "    TARGET: -- Je dois le remettre entre les mains des gardes qui le ramèneront au camp.\n",
      " PREDICTED: -- Je le prends entre les mains des deux gardes qui le dans son camp .\n",
      "--------------------------------------------------------------------------------\n",
      "Mean training loss at end of epoch 20 = 1.7621578148336907\n",
      "LR at end of epoch 20 = [9.872579080565238e-05]\n"
     ]
    },
    {
     "data": {
      "application/vnd.jupyter.widget-view+json": {
       "model_id": "",
       "version_major": 2,
       "version_minor": 0
      },
      "text/plain": [
       "Validation: 0it [00:00, ?it/s]"
      ]
     },
     "metadata": {},
     "output_type": "display_data"
    },
    {
     "name": "stdout",
     "output_type": "stream",
     "text": [
      "--------------------------------------------------------------------------------\n",
      "    SOURCE: \"Well?\" asked his uncle.\n",
      "    TARGET: —Eh bien? lui demanda son oncle.\n",
      " PREDICTED: -- Eh bien ? demanda son oncle .\n",
      "--------------------------------------------------------------------------------\n",
      "--------------------------------------------------------------------------------\n",
      "    SOURCE: He examined the letter from every angle. 'Is not this a woman's hand?' he asked himself.\n",
      "    TARGET: Il examinait la lettre dans tous les sens : N’est-ce pas là une écriture de femme ? se disait-il.\n",
      " PREDICTED: Il examina la lettre de chaque angle , n ’ est - ce pas la main de femme ? se disait - il .\n",
      "--------------------------------------------------------------------------------\n",
      "Mean training loss at end of epoch 21 = 1.7508961998780899\n",
      "LR at end of epoch 21 = [9.744068368984783e-05]\n"
     ]
    },
    {
     "data": {
      "application/vnd.jupyter.widget-view+json": {
       "model_id": "",
       "version_major": 2,
       "version_minor": 0
      },
      "text/plain": [
       "Validation: 0it [00:00, ?it/s]"
      ]
     },
     "metadata": {},
     "output_type": "display_data"
    },
    {
     "name": "stdout",
     "output_type": "stream",
     "text": [
      "--------------------------------------------------------------------------------\n",
      "    SOURCE: \"I did not think you would; and that being the case, I cannot consider your situation with much compassion.\"\n",
      "    TARGET: Mais il est probable que je n’aurai pas a choisir si Mr. Bingley ne revient pas cet hiver.\n",
      " PREDICTED: -- Je ne crois pas que tu veux , et que , dans l ' affaire , je ne connais pas tes conditions avec la beaucoup .\n",
      "--------------------------------------------------------------------------------\n",
      "--------------------------------------------------------------------------------\n",
      "    SOURCE: \"Oh, bravo! Bravo three times over, captain!\n",
      "    TARGET: -- Ah ! bravo, trois fois bravo ! capitaine.\n",
      " PREDICTED: « Ah ! bravo ! trois fois !\n",
      "--------------------------------------------------------------------------------\n",
      "Mean training loss at end of epoch 22 = 1.743892587798534\n",
      "LR at end of epoch 22 = [9.61554554860271e-05]\n"
     ]
    },
    {
     "data": {
      "application/vnd.jupyter.widget-view+json": {
       "model_id": "",
       "version_major": 2,
       "version_minor": 0
      },
      "text/plain": [
       "Validation: 0it [00:00, ?it/s]"
      ]
     },
     "metadata": {},
     "output_type": "display_data"
    },
    {
     "name": "stdout",
     "output_type": "stream",
     "text": [
      "--------------------------------------------------------------------------------\n",
      "    SOURCE: Homais was enjoying himself.\n",
      "    TARGET: Homais se délectait.\n",
      " PREDICTED: Homais se montra .\n",
      "--------------------------------------------------------------------------------\n",
      "--------------------------------------------------------------------------------\n",
      "    SOURCE: Il est un peu fort de café que l’on ose nous expédier des blancs-becs de ton espèce !\n",
      "    TARGET: \"It is a bit too much of a good thing their daring to send us young mugs like you!\"\n",
      " PREDICTED: He is a very as to keep it to shew us to his white devais fallait pleasure .\n",
      "--------------------------------------------------------------------------------\n",
      "Mean training loss at end of epoch 23 = 1.7369602741236785\n",
      "LR at end of epoch 23 = [9.487034837022257e-05]\n"
     ]
    },
    {
     "data": {
      "application/vnd.jupyter.widget-view+json": {
       "model_id": "",
       "version_major": 2,
       "version_minor": 0
      },
      "text/plain": [
       "Validation: 0it [00:00, ?it/s]"
      ]
     },
     "metadata": {},
     "output_type": "display_data"
    },
    {
     "name": "stdout",
     "output_type": "stream",
     "text": [
      "--------------------------------------------------------------------------------\n",
      "    SOURCE: The children, who had been told of their new tutor's arrival, overwhelmed their mother with questions.\n",
      "    TARGET: Les enfants, auxquels l’on avait annoncé le nouveau précepteur, accablaient leur mère de questions.\n",
      " PREDICTED: Les enfants , qui avaient été de leur nouveau précepteur , la mère aux questions .\n",
      "--------------------------------------------------------------------------------\n",
      "--------------------------------------------------------------------------------\n",
      "    SOURCE: He staggered, passed his hand across his eyes, looked again, muttered a curse, and all his features were violently contorted.\n",
      "    TARGET: Il chancela, passa la main sur ses yeux, regarda encore, murmura une malédiction, et tous ses traits se contractèrent violemment.\n",
      " PREDICTED: Il chancela , la main sur la main , les yeux , de nouveau , et ce visage avait fortement force .\n",
      "--------------------------------------------------------------------------------\n",
      "Mean training loss at end of epoch 24 = 1.7298243613561055\n",
      "LR at end of epoch 24 = [9.358524125441802e-05]\n"
     ]
    },
    {
     "data": {
      "application/vnd.jupyter.widget-view+json": {
       "model_id": "",
       "version_major": 2,
       "version_minor": 0
      },
      "text/plain": [
       "Validation: 0it [00:00, ?it/s]"
      ]
     },
     "metadata": {},
     "output_type": "display_data"
    },
    {
     "name": "stdout",
     "output_type": "stream",
     "text": [
      "--------------------------------------------------------------------------------\n",
      "    SOURCE: Camille did not once absent himself from his office. His mother and wife hardly ever left the shop.\n",
      "    TARGET: Camille ne s'absenta pas une seule fois de son bureau; sa mère et sa femme sortirent à peine de la boutique.\n",
      " PREDICTED: Camille n ' avait pas une fois quitté son bureau ; sa mère et sa femme ne quittait jamais la boutique .\n",
      "--------------------------------------------------------------------------------\n",
      "--------------------------------------------------------------------------------\n",
      "    SOURCE: \"When you please.\"\n",
      "    TARGET: -- Nous nous retrouverons !\n",
      " PREDICTED: -- Quand tu voudrez .\n",
      "--------------------------------------------------------------------------------\n",
      "Mean training loss at end of epoch 25 = 1.723595364515021\n",
      "LR at end of epoch 25 = [9.23000130505973e-05]\n"
     ]
    },
    {
     "data": {
      "application/vnd.jupyter.widget-view+json": {
       "model_id": "",
       "version_major": 2,
       "version_minor": 0
      },
      "text/plain": [
       "Validation: 0it [00:00, ?it/s]"
      ]
     },
     "metadata": {},
     "output_type": "display_data"
    },
    {
     "name": "stdout",
     "output_type": "stream",
     "text": [
      "--------------------------------------------------------------------------------\n",
      "    SOURCE: She was dressed in white and had a white veil on her head.\n",
      "    TARGET: Elle était vêtue de blanc et avait un voile blanc sur la tête.\n",
      " PREDICTED: Elle était vêtue de blanche et avait une voile blanche sur sa tête .\n",
      "--------------------------------------------------------------------------------\n",
      "--------------------------------------------------------------------------------\n",
      "    SOURCE: The Carnatic, setting sail from Hong Kong at half-past six on the 7th of November, directed her course at full steam towards Japan.\n",
      "    TARGET: Le Carnatic ayant quitté Hong-Kong, le 7 novembre, à six heures et demie du soir, se dirigeait à toute vapeur vers les terres du Japon.\n",
      " PREDICTED: Le mandat de Hong - Kong , de Hong - Kong , le long de novembre , remonta ses heures de dit nettement vers le Japon .\n",
      "--------------------------------------------------------------------------------\n",
      "Mean training loss at end of epoch 26 = 1.7189523848263102\n",
      "LR at end of epoch 26 = [9.101490593479275e-05]\n"
     ]
    },
    {
     "data": {
      "application/vnd.jupyter.widget-view+json": {
       "model_id": "",
       "version_major": 2,
       "version_minor": 0
      },
      "text/plain": [
       "Validation: 0it [00:00, ?it/s]"
      ]
     },
     "metadata": {},
     "output_type": "display_data"
    },
    {
     "name": "stdout",
     "output_type": "stream",
     "text": [
      "--------------------------------------------------------------------------------\n",
      "    SOURCE: \"The first case,\" repeated Judge Obadiah.\n",
      "    TARGET: « La première cause, reprit alors le juge Obadiah.\n",
      " PREDICTED: « La première cause », répéta - t - il .\n",
      "--------------------------------------------------------------------------------\n",
      "--------------------------------------------------------------------------------\n",
      "    SOURCE: Il se rongeait les levres, battait du tambour avec ses doigts sur la table et montrait tous les symptômes d’une impatience nerveuse.\n",
      "    TARGET: He gnawed his lip, drummed his fingers upon the table, and showed every other symptom of acute impatience.\n",
      " PREDICTED: He examined his , were coming out on the with his gamins on the table and they were at a of his lips .\n",
      "--------------------------------------------------------------------------------\n",
      "Mean training loss at end of epoch 27 = 1.7133495752522672\n",
      "LR at end of epoch 27 = [8.97297988189882e-05]\n"
     ]
    },
    {
     "data": {
      "application/vnd.jupyter.widget-view+json": {
       "model_id": "",
       "version_major": 2,
       "version_minor": 0
      },
      "text/plain": [
       "Validation: 0it [00:00, ?it/s]"
      ]
     },
     "metadata": {},
     "output_type": "display_data"
    },
    {
     "name": "stdout",
     "output_type": "stream",
     "text": [
      "--------------------------------------------------------------------------------\n",
      "    SOURCE: This struck me as a pretty needless question, to say the least.\n",
      "    TARGET: Cette question me parut, pour le moins, très oiseuse.\n",
      " PREDICTED: Voilà qui me fit la plus belle question .\n",
      "--------------------------------------------------------------------------------\n",
      "--------------------------------------------------------------------------------\n",
      "    SOURCE: Whatever might be the sailor's opinion, the expedition projected by the engineer was settled for the next day.\n",
      "    TARGET: Quoi qu'en eût le marin, l'exploration, projetée par l'ingénieur, fut maintenue pour le lendemain.\n",
      " PREDICTED: Quelle pouvait être l ' avis du marin , l ' explosion d ' un rayon du lendemain .\n",
      "--------------------------------------------------------------------------------\n",
      "Mean training loss at end of epoch 28 = 1.7082800667576477\n",
      "LR at end of epoch 28 = [8.844469170318366e-05]\n"
     ]
    },
    {
     "data": {
      "application/vnd.jupyter.widget-view+json": {
       "model_id": "",
       "version_major": 2,
       "version_minor": 0
      },
      "text/plain": [
       "Validation: 0it [00:00, ?it/s]"
      ]
     },
     "metadata": {},
     "output_type": "display_data"
    },
    {
     "name": "stdout",
     "output_type": "stream",
     "text": [
      "--------------------------------------------------------------------------------\n",
      "    SOURCE: Harris said:\n",
      "    TARGET: Harris lui répliqua :\n",
      " PREDICTED: Harris avoua :\n",
      "--------------------------------------------------------------------------------\n",
      "--------------------------------------------------------------------------------\n",
      "    SOURCE: \"There goes the fortune of a whole whaling fleet.\"\n",
      "    TARGET: Il y a là la fortune d'une flotte de baleiniers.\n",
      " PREDICTED: Il sort d ’ un baleinier tout l ’ étrangle d ’ un baleinier .\n",
      "--------------------------------------------------------------------------------\n",
      "Mean training loss at end of epoch 29 = 1.703513124968557\n",
      "LR at end of epoch 29 = [8.715970567539531e-05]\n"
     ]
    },
    {
     "data": {
      "application/vnd.jupyter.widget-view+json": {
       "model_id": "",
       "version_major": 2,
       "version_minor": 0
      },
      "text/plain": [
       "Validation: 0it [00:00, ?it/s]"
      ]
     },
     "metadata": {},
     "output_type": "display_data"
    },
    {
     "name": "stdout",
     "output_type": "stream",
     "text": [
      "--------------------------------------------------------------------------------\n",
      "    SOURCE: \"That is just what I was thinking,\" answered Pencroft.\n",
      "    TARGET: -- C'est à quoi je songeais, répondit Pencroff.\n",
      " PREDICTED: -- C ' est ce que j ' avais pensait , répondit Pencroff .\n",
      "--------------------------------------------------------------------------------\n",
      "--------------------------------------------------------------------------------\n",
      "    SOURCE: \"And I could eat a little chicken,\" said Prudence. \"Suppose we have supper?\"\n",
      "    TARGET: --Et moi, je mangerais bien un peu de poulet, dit Prudence; si nous soupions?\n",
      " PREDICTED: -- Et moi , je un peu de volaille , dit Prudence , si nous allons souper !\n",
      "--------------------------------------------------------------------------------\n",
      "Mean training loss at end of epoch 30 = 1.6997001421251727\n",
      "LR at end of epoch 30 = [8.587447747157458e-05]\n"
     ]
    },
    {
     "data": {
      "application/vnd.jupyter.widget-view+json": {
       "model_id": "",
       "version_major": 2,
       "version_minor": 0
      },
      "text/plain": [
       "Validation: 0it [00:00, ?it/s]"
      ]
     },
     "metadata": {},
     "output_type": "display_data"
    },
    {
     "name": "stdout",
     "output_type": "stream",
     "text": [
      "--------------------------------------------------------------------------------\n",
      "    SOURCE: I lay outstretched, strength gone, nearly unconscious.\n",
      "    TARGET: J'étais étendu sans force, presque sans connaissance.\n",
      " PREDICTED: Je me levai , la tête renversée à l ' agiter rapidement .\n",
      "--------------------------------------------------------------------------------\n",
      "--------------------------------------------------------------------------------\n",
      "    SOURCE: Its tenor was simple and brief.\n",
      "    TARGET: La teneur en était simple et brève.\n",
      " PREDICTED: Sa fut facile , d ' abord immobile , courte et courte .\n",
      "--------------------------------------------------------------------------------\n",
      "Mean training loss at end of epoch 31 = 1.6953462003022404\n",
      "LR at end of epoch 31 = [8.458937035577004e-05]\n"
     ]
    },
    {
     "data": {
      "application/vnd.jupyter.widget-view+json": {
       "model_id": "",
       "version_major": 2,
       "version_minor": 0
      },
      "text/plain": [
       "Validation: 0it [00:00, ?it/s]"
      ]
     },
     "metadata": {},
     "output_type": "display_data"
    },
    {
     "name": "stdout",
     "output_type": "stream",
     "text": [
      "--------------------------------------------------------------------------------\n",
      "    SOURCE: He succeeded in forcing the door of a cellar; once in the house he was obliged to break open, as silently as possible, the door of his own room.\n",
      "    TARGET: Il réussit à forcer la porte d’une cave ; parvenu dans la maison, il fut obligé d’enfoncer le plus silencieusement possible la porte de sa chambre.\n",
      " PREDICTED: Il réussit en forçant la porte d ' une cave ; une fois , il devait frissonner jusqu ' en face , se disait tout bas de sa chambre .\n",
      "--------------------------------------------------------------------------------\n",
      "--------------------------------------------------------------------------------\n",
      "    SOURCE: And Charles stood, motionless and staring, in the very same place where, long ago, Emma, in despair, and paler even than he, had thought of dying.\n",
      "    TARGET: Et Charles demeura tout immobile et béant à cette même place où jadis, encore plus pâle que lui, Emma, désespérée, avait voulu mourir.\n",
      " PREDICTED: Et Charles resta immobile , immobile et regardant de même en même endroit où , il y a longtemps , au désespoir , et plus pâle que lui , ne s ’ y trompait pas .\n",
      "--------------------------------------------------------------------------------\n",
      "Mean training loss at end of epoch 32 = 1.691319914058589\n",
      "LR at end of epoch 32 = [8.33042632399655e-05]\n"
     ]
    },
    {
     "data": {
      "application/vnd.jupyter.widget-view+json": {
       "model_id": "",
       "version_major": 2,
       "version_minor": 0
      },
      "text/plain": [
       "Validation: 0it [00:00, ?it/s]"
      ]
     },
     "metadata": {},
     "output_type": "display_data"
    },
    {
     "name": "stdout",
     "output_type": "stream",
     "text": [
      "--------------------------------------------------------------------------------\n",
      "    SOURCE: Pierron lowered his eyes and grew pale; he stammered:\n",
      "    TARGET: Pierron avait baissé les yeux, pâlissant. Il bégaya:\n",
      " PREDICTED: Pierron baissa les yeux , finit par tomber , il bégaya :\n",
      "--------------------------------------------------------------------------------\n",
      "--------------------------------------------------------------------------------\n",
      "    SOURCE: \"But,\" said d’Artagnan, \"it is the queen’s diamond.\"\n",
      "    TARGET: -- Mais, dit d'Artagnan, c'est le diamant de la reine.\n",
      " PREDICTED: -- Mais , dit d ' Artagnan , c ' est le diamant de la reine .\n",
      "--------------------------------------------------------------------------------\n",
      "Mean training loss at end of epoch 33 = 1.6876359102101308\n",
      "LR at end of epoch 33 = [8.201903503614476e-05]\n"
     ]
    },
    {
     "data": {
      "application/vnd.jupyter.widget-view+json": {
       "model_id": "",
       "version_major": 2,
       "version_minor": 0
      },
      "text/plain": [
       "Validation: 0it [00:00, ?it/s]"
      ]
     },
     "metadata": {},
     "output_type": "display_data"
    },
    {
     "name": "stdout",
     "output_type": "stream",
     "text": [
      "--------------------------------------------------------------------------------\n",
      "    SOURCE: \"But, Captain Harding,\" exclaimed the sailor, \"our working days will not be many, and if you go also we shall be two pair of hands short!\"\n",
      "    TARGET: -- Eh! Monsieur Cyrus! s'écria le marin, nos jours de travail sont comptés, et, si vous partez aussi, cela va nous faire quatre bras de moins!\n",
      " PREDICTED: -- Mais , Monsieur Smith , s ' écria le marin , nos jours ne nous en pas , et si vous partirez deux mains après nous deux mains .\n",
      "--------------------------------------------------------------------------------\n",
      "--------------------------------------------------------------------------------\n",
      "    SOURCE: As the young man made this remark, he opened his eyes wider, and pinched his lips, proud to be a humble wheel in such a large machine.\n",
      "    TARGET: Le jeune homme fit cette remarque, en agrandissant les yeux, en pinçant les lèvres, tout fier d'être l'humble rouage d'une grosse machine.\n",
      " PREDICTED: Comme le jeune homme fit cette remarque , il ouvrait les yeux , et il la lèvre , fier à être un petit engin mécanique .\n",
      "--------------------------------------------------------------------------------\n",
      "Mean training loss at end of epoch 34 = 1.6838748337163114\n",
      "LR at end of epoch 34 = [8.073392792034022e-05]\n"
     ]
    },
    {
     "data": {
      "application/vnd.jupyter.widget-view+json": {
       "model_id": "",
       "version_major": 2,
       "version_minor": 0
      },
      "text/plain": [
       "Validation: 0it [00:00, ?it/s]"
      ]
     },
     "metadata": {},
     "output_type": "display_data"
    },
    {
     "name": "stdout",
     "output_type": "stream",
     "text": [
      "--------------------------------------------------------------------------------\n",
      "    SOURCE: This said, Captain Nemo went below again to the Nautilus's interior, followed by his chief officer.\n",
      "    TARGET: Ceci dit, le capitaine Nemo, suivi de son second, redescendit à l'intérieur du _Nautilus_.\n",
      " PREDICTED: Ceci dit , le capitaine Nemo retourna encore au - dessous de l ' intérieur du _Nautilus_ .\n",
      "--------------------------------------------------------------------------------\n",
      "--------------------------------------------------------------------------------\n",
      "    SOURCE: It had better have happened to _you_, Lizzy; you would have laughed yourself out of it sooner.\n",
      "    TARGET: Si vous aviez été a sa place, Lizzy, votre gaieté vous aurait aidée a réagir plus vite.\n",
      " PREDICTED: Vous vous mieux , Lizzy , vous auriez du vous parler d ’ elle de meme .\n",
      "--------------------------------------------------------------------------------\n",
      "Mean training loss at end of epoch 35 = 1.6791609083894372\n",
      "LR at end of epoch 35 = [7.94486997165195e-05]\n"
     ]
    },
    {
     "data": {
      "application/vnd.jupyter.widget-view+json": {
       "model_id": "",
       "version_major": 2,
       "version_minor": 0
      },
      "text/plain": [
       "Validation: 0it [00:00, ?it/s]"
      ]
     },
     "metadata": {},
     "output_type": "display_data"
    },
    {
     "name": "stdout",
     "output_type": "stream",
     "text": [
      "--------------------------------------------------------------------------------\n",
      "    SOURCE: Take me, then; let us keep together. Oh, always, always!\"\n",
      "    TARGET: Prends-moi donc, restons ensemble, oh! toujours, toujours!\n",
      " PREDICTED: Prenez donc ensemble , je vous garde ; oh ! toujours !\n",
      "--------------------------------------------------------------------------------\n",
      "--------------------------------------------------------------------------------\n",
      "    SOURCE: The more I knew of the inmates of Moor House, the better I liked them.\n",
      "    TARGET: Plus je connus les habitants de Moor-House, plus je les aimai.\n",
      " PREDICTED: Plus je connaissais plus les voyant que du Maure et que j ' avais mieux voulu .\n",
      "--------------------------------------------------------------------------------\n",
      "Mean training loss at end of epoch 36 = 1.676652478394838\n",
      "LR at end of epoch 36 = [7.816347151269876e-05]\n"
     ]
    },
    {
     "data": {
      "application/vnd.jupyter.widget-view+json": {
       "model_id": "",
       "version_major": 2,
       "version_minor": 0
      },
      "text/plain": [
       "Validation: 0it [00:00, ?it/s]"
      ]
     },
     "metadata": {},
     "output_type": "display_data"
    },
    {
     "name": "stdout",
     "output_type": "stream",
     "text": [
      "--------------------------------------------------------------------------------\n",
      "    SOURCE: \"Sure I do,\" the harpooner replied in all seriousness.\n",
      "    TARGET: -- Si, répondit sérieusement le harponneur.\n",
      " PREDICTED: -- Je crois faire , répondit sérieusement le harponneur .\n",
      "--------------------------------------------------------------------------------\n",
      "--------------------------------------------------------------------------------\n",
      "    SOURCE: He enjoyed in all humility an income of sixty thousand livres, and had flatterers of his own.\n",
      "    TARGET: Il jouit en toute humilité de soixante mille livres de rente, et a lui-même des flatteurs.\n",
      " PREDICTED: Il savourait en toute l ’ excusait 15 mille livres de rente , et étaient attachés à son propre .\n",
      "--------------------------------------------------------------------------------\n",
      "Mean training loss at end of epoch 37 = 1.6731335828703526\n",
      "LR at end of epoch 37 = [7.687836439689422e-05]\n"
     ]
    },
    {
     "data": {
      "application/vnd.jupyter.widget-view+json": {
       "model_id": "",
       "version_major": 2,
       "version_minor": 0
      },
      "text/plain": [
       "Validation: 0it [00:00, ?it/s]"
      ]
     },
     "metadata": {},
     "output_type": "display_data"
    },
    {
     "name": "stdout",
     "output_type": "stream",
     "text": [
      "--------------------------------------------------------------------------------\n",
      "    SOURCE: But the Marquise made him sit facing herself, talked to him continuously, and prevented his saying a word to her daughter.\n",
      "    TARGET: Mais la marquise le fit placer vis-à-vis d’elle, lui parla constamment et empêcha qu’il ne pût dire un mot à sa fille.\n",
      " PREDICTED: Mais la marquise lui faisait asseoir sur elle - même , lui causait d ' un mot , et l ' empêcha de dire un mot .\n",
      "--------------------------------------------------------------------------------\n",
      "--------------------------------------------------------------------------------\n",
      "    SOURCE: \"An indisputable event, my gallant Ned.\n",
      "    TARGET: -- Un fait indiscutable, mon brave Ned.\n",
      " PREDICTED: -- Un événement , mon brave Ned .\n",
      "--------------------------------------------------------------------------------\n",
      "Mean training loss at end of epoch 38 = 1.66946266400969\n",
      "LR at end of epoch 38 = [7.559325728108968e-05]\n"
     ]
    },
    {
     "data": {
      "application/vnd.jupyter.widget-view+json": {
       "model_id": "",
       "version_major": 2,
       "version_minor": 0
      },
      "text/plain": [
       "Validation: 0it [00:00, ?it/s]"
      ]
     },
     "metadata": {},
     "output_type": "display_data"
    },
    {
     "name": "stdout",
     "output_type": "stream",
     "text": [
      "--------------------------------------------------------------------------------\n",
      "    SOURCE: Then he put three francs on the corner of the table, bowed negligently, and went out.\n",
      "    TARGET: Puis il déposa trois francs sur le coin de la table, salua négligemment et s’en alla.\n",
      " PREDICTED: Puis il mit trois francs au coin de la table , salua dure , mal et sortit .\n",
      "--------------------------------------------------------------------------------\n",
      "--------------------------------------------------------------------------------\n",
      "    SOURCE: \"Yes.\"\n",
      "    TARGET: -- Oui.\n",
      " PREDICTED: -- Oui .\n",
      "--------------------------------------------------------------------------------\n",
      "Mean training loss at end of epoch 39 = 1.6673008262448716\n",
      "LR at end of epoch 39 = [7.430790798925276e-05]\n"
     ]
    },
    {
     "data": {
      "application/vnd.jupyter.widget-view+json": {
       "model_id": "",
       "version_major": 2,
       "version_minor": 0
      },
      "text/plain": [
       "Validation: 0it [00:00, ?it/s]"
      ]
     },
     "metadata": {},
     "output_type": "display_data"
    },
    {
     "name": "stdout",
     "output_type": "stream",
     "text": [
      "--------------------------------------------------------------------------------\n",
      "    SOURCE: Camille laughed, and, as his wife confined herself to answering his friend in monosyllables, he firmly believed they detested one another.\n",
      "    TARGET: Camille riait, et, comme sa femme ne répondait à son ami que par des monosyllabes, il croyait fermement qu'ils se détestaient tous deux.\n",
      " PREDICTED: Camille riait , et comme la femme à lui répondre son ami en , il se demandait :\n",
      "--------------------------------------------------------------------------------\n",
      "--------------------------------------------------------------------------------\n",
      "    SOURCE: During the night all these memories crossed over from one dream to the next, not giving my brain a moment's rest.\n",
      "    TARGET: Pendant la nuit, tous ces souvenirs, passant de rêve en rêve, ne laissèrent pas mon cerveau sommeiller un instant.\n",
      " PREDICTED: Pendant cette nuit toutes ces souvenirs s ' à un rêve ensuite , ne pas mon cerveau un instant .\n",
      "--------------------------------------------------------------------------------\n",
      "Mean training loss at end of epoch 40 = 1.663073769979141\n",
      "LR at end of epoch 40 = [7.302280087344821e-05]\n"
     ]
    },
    {
     "data": {
      "application/vnd.jupyter.widget-view+json": {
       "model_id": "",
       "version_major": 2,
       "version_minor": 0
      },
      "text/plain": [
       "Validation: 0it [00:00, ?it/s]"
      ]
     },
     "metadata": {},
     "output_type": "display_data"
    },
    {
     "name": "stdout",
     "output_type": "stream",
     "text": [
      "--------------------------------------------------------------------------------\n",
      "    SOURCE: \"I presume that the reason he gave was that you would receive help from Sir Charles for the legal expenses connected with your divorce?\"\n",
      "    TARGET: – Je suppose qu’il a donné comme raison que vous recevriez une aide de Sir Charles pour les frais d’une instance de divorce.\n",
      " PREDICTED: – Je présume que la raison qu ’ il vous a donnée au jeu de Sir Charles pour les frais de votre divorce à votre divorce d ’ divorce d ’ divorce d ’ audace ?\n",
      "--------------------------------------------------------------------------------\n",
      "--------------------------------------------------------------------------------\n",
      "    SOURCE: Presently all the rest of the country dance became a pure formality.\n",
      "    TARGET: Bientôt tout le reste de la contredanse ne dansa que par contenance.\n",
      " PREDICTED: Alors toutes les autres du pays devinrent une paix pure .\n",
      "--------------------------------------------------------------------------------\n",
      "Mean training loss at end of epoch 41 = 1.6602355853539892\n",
      "LR at end of epoch 41 = [7.173769375764368e-05]\n"
     ]
    },
    {
     "data": {
      "application/vnd.jupyter.widget-view+json": {
       "model_id": "696ae6cda78e4da9a6770ebd37d3e7ee",
       "version_major": 2,
       "version_minor": 0
      },
      "text/plain": [
       "Validation: 0it [00:00, ?it/s]"
      ]
     },
     "metadata": {},
     "output_type": "display_data"
    },
    {
     "name": "stdout",
     "output_type": "stream",
     "text": [
      "--------------------------------------------------------------------------------\n",
      "    SOURCE: \"Conseil!\" I shouted. \"Conseil!\"\n",
      "    TARGET: « Conseil, m'écriai-je, Conseil !\n",
      " PREDICTED: « Conseil ! » criai - je .\n",
      "--------------------------------------------------------------------------------\n",
      "--------------------------------------------------------------------------------\n",
      "    SOURCE: My father stopped, looked at me disdainfully, and contented himself with saying, \"I believe you are mad.\"\n",
      "    TARGET: Mon père s'arrêta, me regarda avec dédain, et se contenta de me répondre: --Vous êtes fou, je crois.\n",
      " PREDICTED: Mon père s ' arrêta , me regarda d ' un oeil dédaigneux , et se contenta de dire :\n",
      "--------------------------------------------------------------------------------\n"
     ]
    },
    {
     "name": "stderr",
     "output_type": "stream",
     "text": [
      "/opt/conda/lib/python3.10/site-packages/pytorch_lightning/trainer/call.py:53: UserWarning: Detected KeyboardInterrupt, attempting graceful shutdown...\n",
      "  rank_zero_warn(\"Detected KeyboardInterrupt, attempting graceful shutdown...\")\n"
     ]
    }
   ],
   "source": [
    "from pytorch_lightning import Trainer\n",
    "\n",
    "trainer = Trainer(\n",
    "    accelerator = 'gpu',\n",
    "    max_epochs = cfg['num_epochs'],\n",
    "    precision=16,\n",
    ")\n",
    "\n",
    "# Fit model\n",
    "trainer.fit(myLitmodel) #train_loader,test_loader"
   ]
  },
  {
   "cell_type": "code",
   "execution_count": 6,
   "metadata": {
    "execution": {
     "iopub.execute_input": "2023-09-08T15:17:19.752892Z",
     "iopub.status.busy": "2023-09-08T15:17:19.752474Z",
     "iopub.status.idle": "2023-09-08T15:17:20.940561Z",
     "shell.execute_reply": "2023-09-08T15:17:20.939220Z",
     "shell.execute_reply.started": "2023-09-08T15:17:19.752859Z"
    }
   },
   "outputs": [
    {
     "name": "stdout",
     "output_type": "stream",
     "text": [
      "huggingface/tokenizers: The current process just got forked, after parallelism has already been used. Disabling parallelism to avoid deadlocks...\n",
      "To disable this warning, you can either:\n",
      "\t- Avoid using `tokenizers` before the fork if possible\n",
      "\t- Explicitly set the environment variable TOKENIZERS_PARALLELISM=(true | false)\n",
      "  adding: kaggle/working/TSAI_ERA_Assignments/S15/ (stored 0%)\n",
      "  adding: kaggle/working/TSAI_ERA_Assignments/S15/model.py (deflated 78%)\n",
      "  adding: kaggle/working/TSAI_ERA_Assignments/S15/dataset.py (deflated 73%)\n",
      "  adding: kaggle/working/TSAI_ERA_Assignments/S15/weights/ (stored 0%)\n",
      "  adding: kaggle/working/TSAI_ERA_Assignments/S15/weights/somerandomfile.rtf (stored 0%)\n",
      "  adding: kaggle/working/TSAI_ERA_Assignments/S15/S15.ipynb (deflated 88%)\n",
      "  adding: kaggle/working/TSAI_ERA_Assignments/S15/LightningModel.py (deflated 72%)\n",
      "  adding: kaggle/working/TSAI_ERA_Assignments/S15/config.py (deflated 58%)\n"
     ]
    }
   ],
   "source": []
  },
  {
   "cell_type": "code",
   "execution_count": 7,
   "metadata": {
    "execution": {
     "iopub.execute_input": "2023-09-08T15:18:00.519178Z",
     "iopub.status.busy": "2023-09-08T15:18:00.518701Z",
     "iopub.status.idle": "2023-09-08T15:23:17.926256Z",
     "shell.execute_reply": "2023-09-08T15:23:17.924822Z",
     "shell.execute_reply.started": "2023-09-08T15:18:00.519141Z"
    }
   },
   "outputs": [
    {
     "name": "stdout",
     "output_type": "stream",
     "text": [
      "huggingface/tokenizers: The current process just got forked, after parallelism has already been used. Disabling parallelism to avoid deadlocks...\n",
      "To disable this warning, you can either:\n",
      "\t- Avoid using `tokenizers` before the fork if possible\n",
      "\t- Explicitly set the environment variable TOKENIZERS_PARALLELISM=(true | false)\n",
      "  adding: kaggle/working/TSAI_ERA_Assignments/S16/ (stored 0%)\n",
      "  adding: kaggle/working/TSAI_ERA_Assignments/S16/runs/ (stored 0%)\n",
      "  adding: kaggle/working/TSAI_ERA_Assignments/S16/runs/tmodel/ (stored 0%)\n",
      "  adding: kaggle/working/TSAI_ERA_Assignments/S16/runs/tmodel/events.out.tfevents.1694145898.501d9386d273.29.0 (deflated 70%)\n",
      "  adding: kaggle/working/TSAI_ERA_Assignments/S16/model.py (deflated 78%)\n",
      "  adding: kaggle/working/TSAI_ERA_Assignments/S16/dataset.py (deflated 74%)\n",
      "  adding: kaggle/working/TSAI_ERA_Assignments/S16/weights/ (stored 0%)\n",
      "  adding: kaggle/working/TSAI_ERA_Assignments/S16/weights/tmodel_14.pt (deflated 15%)\n",
      "  adding: kaggle/working/TSAI_ERA_Assignments/S16/weights/tmodel_09.pt (deflated 16%)\n",
      "  adding: kaggle/working/TSAI_ERA_Assignments/S16/weights/tmodel_29.pt (deflated 13%)\n",
      "  adding: kaggle/working/TSAI_ERA_Assignments/S16/weights/tmodel_04.pt (deflated 14%)\n",
      "  adding: kaggle/working/TSAI_ERA_Assignments/S16/weights/tmodel_39.pt (deflated 13%)\n",
      "  adding: kaggle/working/TSAI_ERA_Assignments/S16/weights/tmodel_24.pt (deflated 13%)\n",
      "  adding: kaggle/working/TSAI_ERA_Assignments/S16/weights/somerandomfile.rtf (stored 0%)\n",
      "  adding: kaggle/working/TSAI_ERA_Assignments/S16/weights/tmodel_19.pt (deflated 13%)\n",
      "  adding: kaggle/working/TSAI_ERA_Assignments/S16/weights/tmodel_34.pt (deflated 13%)\n",
      "  adding: kaggle/working/TSAI_ERA_Assignments/S16/lightning_logs/ (stored 0%)\n",
      "  adding: kaggle/working/TSAI_ERA_Assignments/S16/lightning_logs/version_0/ (stored 0%)\n",
      "  adding: kaggle/working/TSAI_ERA_Assignments/S16/lightning_logs/version_0/hparams.yaml (stored 0%)\n",
      "  adding: kaggle/working/TSAI_ERA_Assignments/S16/lightning_logs/version_0/events.out.tfevents.1694145979.501d9386d273.29.1 (deflated 68%)\n",
      "  adding: kaggle/working/TSAI_ERA_Assignments/S16/LightningModel.py (deflated 73%)\n",
      "  adding: kaggle/working/TSAI_ERA_Assignments/S16/tokenizer_en.json (deflated 70%)\n",
      "  adding: kaggle/working/TSAI_ERA_Assignments/S16/__pycache__/ (stored 0%)\n",
      "  adding: kaggle/working/TSAI_ERA_Assignments/S16/__pycache__/model.cpython-310.pyc (deflated 59%)\n",
      "  adding: kaggle/working/TSAI_ERA_Assignments/S16/__pycache__/dataset.cpython-310.pyc (deflated 45%)\n",
      "  adding: kaggle/working/TSAI_ERA_Assignments/S16/__pycache__/LightningModel.cpython-310.pyc (deflated 48%)\n",
      "  adding: kaggle/working/TSAI_ERA_Assignments/S16/__pycache__/config.cpython-310.pyc (deflated 34%)\n",
      "  adding: kaggle/working/TSAI_ERA_Assignments/S16/tokenizer_fr.json (deflated 72%)\n",
      "  adding: kaggle/working/TSAI_ERA_Assignments/S16/kaggle_s15.zip (stored 0%)\n",
      "  adding: kaggle/working/TSAI_ERA_Assignments/S16/config.py (deflated 58%)\n"
     ]
    }
   ],
   "source": [
    "!zip -r kaggle_s16.zip /kaggle/working/TSAI_ERA_Assignments/S16"
   ]
  },
  {
   "cell_type": "code",
   "execution_count": 10,
   "metadata": {
    "execution": {
     "iopub.execute_input": "2023-09-08T15:24:44.805084Z",
     "iopub.status.busy": "2023-09-08T15:24:44.804610Z",
     "iopub.status.idle": "2023-09-08T15:24:44.814089Z",
     "shell.execute_reply": "2023-09-08T15:24:44.812881Z",
     "shell.execute_reply.started": "2023-09-08T15:24:44.805048Z"
    }
   },
   "outputs": [
    {
     "data": {
      "text/html": [
       "<a href='kaggle_s16.zip' target='_blank'>kaggle_s16.zip</a><br>"
      ],
      "text/plain": [
       "/kaggle/working/TSAI_ERA_Assignments/S16/kaggle_s16.zip"
      ]
     },
     "execution_count": 10,
     "metadata": {},
     "output_type": "execute_result"
    }
   ],
   "source": [
    "from IPython.display import FileLink\n",
    "FileLink(r'kaggle_s16.zip')"
   ]
  },
  {
   "cell_type": "code",
   "execution_count": 11,
   "metadata": {
    "execution": {
     "iopub.execute_input": "2023-09-08T15:24:57.401332Z",
     "iopub.status.busy": "2023-09-08T15:24:57.400862Z",
     "iopub.status.idle": "2023-09-08T15:24:58.464083Z",
     "shell.execute_reply": "2023-09-08T15:24:58.462497Z",
     "shell.execute_reply.started": "2023-09-08T15:24:57.401287Z"
    }
   },
   "outputs": [
    {
     "name": "stdout",
     "output_type": "stream",
     "text": [
      "huggingface/tokenizers: The current process just got forked, after parallelism has already been used. Disabling parallelism to avoid deadlocks...\n",
      "To disable this warning, you can either:\n",
      "\t- Avoid using `tokenizers` before the fork if possible\n",
      "\t- Explicitly set the environment variable TOKENIZERS_PARALLELISM=(true | false)\n"
     ]
    }
   ],
   "source": [
    "mv kaggle_s16.zip /kaggle/working/kaggle_s1.6zip"
   ]
  }
 ],
 "metadata": {
  "kernelspec": {
   "display_name": "Python 3 (ipykernel)",
   "language": "python",
   "name": "python3"
  },
  "language_info": {
   "codemirror_mode": {
    "name": "ipython",
    "version": 3
   },
   "file_extension": ".py",
   "mimetype": "text/x-python",
   "name": "python",
   "nbconvert_exporter": "python",
   "pygments_lexer": "ipython3",
   "version": "3.11.3"
  }
 },
 "nbformat": 4,
 "nbformat_minor": 4
}
