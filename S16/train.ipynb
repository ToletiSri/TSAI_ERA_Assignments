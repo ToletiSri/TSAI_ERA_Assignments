{
 "cells": [
  {
   "cell_type": "code",
   "execution_count": null,
   "id": "d11b6932",
   "metadata": {},
   "outputs": [],
   "source": [
    "from config import get_config\n"
   ]
  },
  {
   "cell_type": "code",
   "execution_count": null,
   "id": "16d1c702",
   "metadata": {},
   "outputs": [],
   "source": [
    "cfg = get_config()\n",
    "cfg['batch_size'] = 6\n",
    "cfg['preload'] = None\n",
    "cfg['num_epochs'] = 30"
   ]
  },
  {
   "cell_type": "code",
   "execution_count": null,
   "id": "3cbf9b77",
   "metadata": {},
   "outputs": [],
   "source": [
    "from train import train_model\n",
    "train_model (cfg)"
   ]
  },
  {
   "cell_type": "code",
   "execution_count": null,
   "id": "f60e6131",
   "metadata": {},
   "outputs": [],
   "source": []
  },
  {
   "cell_type": "code",
   "execution_count": null,
   "id": "730ba450",
   "metadata": {},
   "outputs": [],
   "source": [
    "import torch\n",
    "print(\"cuda\" if torch.cuda.is_available() else \"cpu\")"
   ]
  },
  {
   "cell_type": "code",
   "execution_count": 1,
   "id": "cf0cb005",
   "metadata": {},
   "outputs": [
    {
     "data": {
      "text/plain": [
       "False"
      ]
     },
     "execution_count": 1,
     "metadata": {},
     "output_type": "execute_result"
    }
   ],
   "source": [
    "import torch\n",
    "torch.cuda.is_available()"
   ]
  },
  {
   "cell_type": "code",
   "execution_count": null,
   "id": "68335b45",
   "metadata": {},
   "outputs": [],
   "source": [
    "print(torch.version.cuda)"
   ]
  },
  {
   "cell_type": "code",
   "execution_count": null,
   "id": "90887269",
   "metadata": {},
   "outputs": [],
   "source": [
    "!pip uninstall torchaudio"
   ]
  },
  {
   "cell_type": "code",
   "execution_count": null,
   "id": "5e3c3251",
   "metadata": {},
   "outputs": [],
   "source": [
    "!pip install torch torchaudio -f https://download.pytorch.org/whl/cu118/torch_stable.html"
   ]
  },
  {
   "cell_type": "code",
   "execution_count": null,
   "id": "1558b76b",
   "metadata": {},
   "outputs": [],
   "source": [
    "!nvidia-smi"
   ]
  },
  {
   "cell_type": "code",
   "execution_count": null,
   "id": "1a4667cf",
   "metadata": {},
   "outputs": [],
   "source": []
  }
 ],
 "metadata": {
  "kernelspec": {
   "display_name": "Python 3 (ipykernel)",
   "language": "python",
   "name": "python3"
  },
  "language_info": {
   "codemirror_mode": {
    "name": "ipython",
    "version": 3
   },
   "file_extension": ".py",
   "mimetype": "text/x-python",
   "name": "python",
   "nbconvert_exporter": "python",
   "pygments_lexer": "ipython3",
   "version": "3.11.3"
  }
 },
 "nbformat": 4,
 "nbformat_minor": 5
}
