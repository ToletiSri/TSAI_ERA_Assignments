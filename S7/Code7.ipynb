{
 "cells": [
  {
   "cell_type": "markdown",
   "metadata": {},
   "source": [
    "# TSAI Assignment 7 - Code 7"
   ]
  },
  {
   "cell_type": "markdown",
   "metadata": {},
   "source": [
    "### Model7:\n",
    "###### Target\n",
    "Improve accuracy - by increasing receptivity field, using LROnPlateau\n",
    "(Reduce/retain channel size while adding another layer for receptivity, Increases parameters due to the additional layer. Retain droputs)\n",
    "###### Result\n",
    "Model Parameters - 5,918\n",
    "Train Accuracy - 99.24%\n",
    "Test accuracy - 99.03%%\n",
    "##### Analysis\n",
    "A decent increase in accuracy, but model tends to coverge at a lesser accuracy"
   ]
  },
  {
   "cell_type": "code",
   "execution_count": 1,
   "metadata": {
    "id": "6PlbomWY3RSq"
   },
   "outputs": [],
   "source": [
    "from utils import torch,nn,F,optim,datasets,transforms\n",
    "import utils"
   ]
  },
  {
   "cell_type": "markdown",
   "metadata": {
    "id": "3UHq59Sw6tmW"
   },
   "source": [
    "Create Train and test Transforms - use utils module"
   ]
  },
  {
   "cell_type": "code",
   "execution_count": 2,
   "metadata": {
    "id": "KpshQ2Ug38m2"
   },
   "outputs": [],
   "source": [
    "# Data transformation parameters\n",
    "mean = 0.1307\n",
    "std_dev = 0.3081\n",
    "\n",
    "#Get train data transformation\n",
    "train_transforms = utils.getTrainTransforms(mean,std_dev)\n",
    "\n",
    "#Get Test data transformations\n",
    "test_transforms = utils.getTestTransforms(mean,std_dev)"
   ]
  },
  {
   "cell_type": "markdown",
   "metadata": {
    "id": "zQm17pM46zHL"
   },
   "source": [
    "Get the MNIST data - train dataset and test dataset"
   ]
  },
  {
   "cell_type": "code",
   "execution_count": 3,
   "metadata": {
    "colab": {
     "base_uri": "https://localhost:8080/"
    },
    "id": "JB79ZYW13-AO",
    "outputId": "f375e7e7-b967-4ca5-cfad-a816b8f58a8a"
   },
   "outputs": [],
   "source": [
    "train_data = datasets.MNIST('../data', train=True, download=True, transform=train_transforms)\n",
    "test_data = datasets.MNIST('../data', train=False, download=True, transform=test_transforms)"
   ]
  },
  {
   "cell_type": "markdown",
   "metadata": {
    "id": "_PKSHxto6116"
   },
   "source": [
    "Get the train_loader and test_loader -  batches of data used in model training/testing"
   ]
  },
  {
   "cell_type": "code",
   "execution_count": 4,
   "metadata": {
    "id": "avCKK1uL4A68"
   },
   "outputs": [],
   "source": [
    "batch_size = 512\n",
    "\n",
    "kwargs = {'batch_size': batch_size, 'shuffle': True, 'num_workers': 2, 'pin_memory': True}\n",
    "\n",
    "train_loader = torch.utils.data.DataLoader(train_data, **kwargs)\n",
    "test_loader = torch.utils.data.DataLoader(test_data, **kwargs)"
   ]
  },
  {
   "cell_type": "markdown",
   "metadata": {
    "id": "y3XbVJSb7Aee"
   },
   "source": [
    "## MODEL - 7"
   ]
  },
  {
   "cell_type": "code",
   "execution_count": 5,
   "metadata": {},
   "outputs": [],
   "source": [
    "from models import model_7\n",
    "myNextModel = model_7.getModel()"
   ]
  },
  {
   "cell_type": "code",
   "execution_count": 6,
   "metadata": {
    "colab": {
     "base_uri": "https://localhost:8080/"
    },
    "id": "Owqiet9M4TV7",
    "outputId": "f5c847c7-642b-4773-becf-70168897809e"
   },
   "outputs": [
    {
     "name": "stdout",
     "output_type": "stream",
     "text": [
      "Epoch 1\n"
     ]
    },
    {
     "name": "stderr",
     "output_type": "stream",
     "text": [
      "  0%|                                                                                          | 0/118 [00:00<?, ?it/s]D:\\SRT_Courses\\MachineLearning\\TSAI\\Session7\\S7\\models\\model_7.py:63: UserWarning: Implicit dimension choice for log_softmax has been deprecated. Change the call to include dim=X as an argument.\n",
      "  return F.log_softmax(x)\n",
      "Train: Loss=0.1171 Batch_id=117 Accuracy=90.67: 100%|████████████████████████████████| 118/118 [00:16<00:00,  6.99it/s]\n"
     ]
    },
    {
     "name": "stdout",
     "output_type": "stream",
     "text": [
      "Test set: Average loss: 0.0709, Accuracy: 9791/10000 (97.91%)\n",
      "\n",
      "Epoch 2\n"
     ]
    },
    {
     "name": "stderr",
     "output_type": "stream",
     "text": [
      "Train: Loss=0.0187 Batch_id=117 Accuracy=97.80: 100%|████████████████████████████████| 118/118 [00:09<00:00, 12.40it/s]\n"
     ]
    },
    {
     "name": "stdout",
     "output_type": "stream",
     "text": [
      "Test set: Average loss: 0.0527, Accuracy: 9833/10000 (98.33%)\n",
      "\n",
      "Epoch 3\n"
     ]
    },
    {
     "name": "stderr",
     "output_type": "stream",
     "text": [
      "Train: Loss=0.0589 Batch_id=117 Accuracy=98.19: 100%|████████████████████████████████| 118/118 [00:09<00:00, 12.79it/s]\n"
     ]
    },
    {
     "name": "stdout",
     "output_type": "stream",
     "text": [
      "Test set: Average loss: 0.0448, Accuracy: 9859/10000 (98.59%)\n",
      "\n",
      "Epoch 4\n"
     ]
    },
    {
     "name": "stderr",
     "output_type": "stream",
     "text": [
      "Train: Loss=0.0703 Batch_id=117 Accuracy=98.37: 100%|████████████████████████████████| 118/118 [00:08<00:00, 13.59it/s]\n"
     ]
    },
    {
     "name": "stdout",
     "output_type": "stream",
     "text": [
      "Test set: Average loss: 0.0500, Accuracy: 9839/10000 (98.39%)\n",
      "\n",
      "Epoch 5\n"
     ]
    },
    {
     "name": "stderr",
     "output_type": "stream",
     "text": [
      "Train: Loss=0.0466 Batch_id=117 Accuracy=98.60: 100%|████████████████████████████████| 118/118 [00:09<00:00, 12.89it/s]\n"
     ]
    },
    {
     "name": "stdout",
     "output_type": "stream",
     "text": [
      "Test set: Average loss: 0.0404, Accuracy: 9870/10000 (98.70%)\n",
      "\n",
      "Epoch 00005: reducing learning rate of group 0 to 5.0000e-02.\n",
      "Epoch 6\n"
     ]
    },
    {
     "name": "stderr",
     "output_type": "stream",
     "text": [
      "Train: Loss=0.1136 Batch_id=117 Accuracy=98.90: 100%|████████████████████████████████| 118/118 [00:09<00:00, 13.04it/s]\n"
     ]
    },
    {
     "name": "stdout",
     "output_type": "stream",
     "text": [
      "Test set: Average loss: 0.0392, Accuracy: 9875/10000 (98.75%)\n",
      "\n",
      "Epoch 7\n"
     ]
    },
    {
     "name": "stderr",
     "output_type": "stream",
     "text": [
      "Train: Loss=0.0225 Batch_id=117 Accuracy=99.01: 100%|████████████████████████████████| 118/118 [00:09<00:00, 12.93it/s]\n"
     ]
    },
    {
     "name": "stdout",
     "output_type": "stream",
     "text": [
      "Test set: Average loss: 0.0321, Accuracy: 9896/10000 (98.96%)\n",
      "\n",
      "Epoch 8\n"
     ]
    },
    {
     "name": "stderr",
     "output_type": "stream",
     "text": [
      "Train: Loss=0.0524 Batch_id=117 Accuracy=99.09: 100%|████████████████████████████████| 118/118 [00:09<00:00, 13.01it/s]\n"
     ]
    },
    {
     "name": "stdout",
     "output_type": "stream",
     "text": [
      "Test set: Average loss: 0.0327, Accuracy: 9893/10000 (98.93%)\n",
      "\n",
      "Epoch 9\n"
     ]
    },
    {
     "name": "stderr",
     "output_type": "stream",
     "text": [
      "Train: Loss=0.0061 Batch_id=117 Accuracy=99.10: 100%|████████████████████████████████| 118/118 [00:08<00:00, 13.61it/s]\n"
     ]
    },
    {
     "name": "stdout",
     "output_type": "stream",
     "text": [
      "Test set: Average loss: 0.0324, Accuracy: 9899/10000 (98.99%)\n",
      "\n",
      "Epoch 00009: reducing learning rate of group 0 to 2.5000e-02.\n",
      "Epoch 10\n"
     ]
    },
    {
     "name": "stderr",
     "output_type": "stream",
     "text": [
      "Train: Loss=0.0356 Batch_id=117 Accuracy=99.21: 100%|████████████████████████████████| 118/118 [00:08<00:00, 13.67it/s]\n"
     ]
    },
    {
     "name": "stdout",
     "output_type": "stream",
     "text": [
      "Test set: Average loss: 0.0310, Accuracy: 9905/10000 (99.05%)\n",
      "\n",
      "Epoch 11\n"
     ]
    },
    {
     "name": "stderr",
     "output_type": "stream",
     "text": [
      "Train: Loss=0.0157 Batch_id=117 Accuracy=99.22: 100%|████████████████████████████████| 118/118 [00:08<00:00, 13.19it/s]\n"
     ]
    },
    {
     "name": "stdout",
     "output_type": "stream",
     "text": [
      "Test set: Average loss: 0.0286, Accuracy: 9912/10000 (99.12%)\n",
      "\n",
      "Epoch 12\n"
     ]
    },
    {
     "name": "stderr",
     "output_type": "stream",
     "text": [
      "Train: Loss=0.0236 Batch_id=117 Accuracy=99.28: 100%|████████████████████████████████| 118/118 [00:09<00:00, 13.01it/s]\n"
     ]
    },
    {
     "name": "stdout",
     "output_type": "stream",
     "text": [
      "Test set: Average loss: 0.0294, Accuracy: 9901/10000 (99.01%)\n",
      "\n",
      "Epoch 13\n"
     ]
    },
    {
     "name": "stderr",
     "output_type": "stream",
     "text": [
      "Train: Loss=0.0418 Batch_id=117 Accuracy=99.27: 100%|████████████████████████████████| 118/118 [00:09<00:00, 12.37it/s]\n"
     ]
    },
    {
     "name": "stdout",
     "output_type": "stream",
     "text": [
      "Test set: Average loss: 0.0308, Accuracy: 9904/10000 (99.04%)\n",
      "\n",
      "Epoch 00013: reducing learning rate of group 0 to 1.2500e-02.\n",
      "Epoch 14\n"
     ]
    },
    {
     "name": "stderr",
     "output_type": "stream",
     "text": [
      "Train: Loss=0.0250 Batch_id=117 Accuracy=99.33: 100%|████████████████████████████████| 118/118 [00:09<00:00, 12.33it/s]\n"
     ]
    },
    {
     "name": "stdout",
     "output_type": "stream",
     "text": [
      "Test set: Average loss: 0.0296, Accuracy: 9906/10000 (99.06%)\n",
      "\n",
      "Epoch 15\n"
     ]
    },
    {
     "name": "stderr",
     "output_type": "stream",
     "text": [
      "Train: Loss=0.0835 Batch_id=117 Accuracy=99.33: 100%|████████████████████████████████| 118/118 [00:08<00:00, 13.61it/s]\n"
     ]
    },
    {
     "name": "stdout",
     "output_type": "stream",
     "text": [
      "Test set: Average loss: 0.0291, Accuracy: 9911/10000 (99.11%)\n",
      "\n",
      "Epoch 16\n"
     ]
    },
    {
     "name": "stderr",
     "output_type": "stream",
     "text": [
      "Train: Loss=0.0322 Batch_id=117 Accuracy=99.39: 100%|████████████████████████████████| 118/118 [00:09<00:00, 11.99it/s]\n"
     ]
    },
    {
     "name": "stdout",
     "output_type": "stream",
     "text": [
      "Test set: Average loss: 0.0293, Accuracy: 9908/10000 (99.08%)\n",
      "\n",
      "Epoch 17\n"
     ]
    },
    {
     "name": "stderr",
     "output_type": "stream",
     "text": [
      "Train: Loss=0.0232 Batch_id=117 Accuracy=99.37: 100%|████████████████████████████████| 118/118 [00:08<00:00, 13.15it/s]\n"
     ]
    },
    {
     "name": "stdout",
     "output_type": "stream",
     "text": [
      "Test set: Average loss: 0.0290, Accuracy: 9908/10000 (99.08%)\n",
      "\n",
      "Epoch 00017: reducing learning rate of group 0 to 6.2500e-03.\n",
      "Epoch 18\n"
     ]
    },
    {
     "name": "stderr",
     "output_type": "stream",
     "text": [
      "Train: Loss=0.0790 Batch_id=117 Accuracy=99.37: 100%|████████████████████████████████| 118/118 [00:09<00:00, 13.05it/s]\n"
     ]
    },
    {
     "name": "stdout",
     "output_type": "stream",
     "text": [
      "Test set: Average loss: 0.0291, Accuracy: 9911/10000 (99.11%)\n",
      "\n",
      "Epoch 19\n"
     ]
    },
    {
     "name": "stderr",
     "output_type": "stream",
     "text": [
      "Train: Loss=0.0167 Batch_id=117 Accuracy=99.36: 100%|████████████████████████████████| 118/118 [00:08<00:00, 13.98it/s]\n"
     ]
    },
    {
     "name": "stdout",
     "output_type": "stream",
     "text": [
      "Test set: Average loss: 0.0293, Accuracy: 9908/10000 (99.08%)\n",
      "\n",
      "Epoch 20\n"
     ]
    },
    {
     "name": "stderr",
     "output_type": "stream",
     "text": [
      "Train: Loss=0.0199 Batch_id=117 Accuracy=99.44: 100%|████████████████████████████████| 118/118 [00:08<00:00, 13.56it/s]\n"
     ]
    },
    {
     "name": "stdout",
     "output_type": "stream",
     "text": [
      "Test set: Average loss: 0.0285, Accuracy: 9908/10000 (99.08%)\n",
      "\n"
     ]
    }
   ],
   "source": [
    "# Data to plot accuracy and loss graphs\n",
    "train_losses = []\n",
    "test_losses = []\n",
    "train_acc = []\n",
    "test_acc = []\n",
    "\n",
    "optimizer = optim.SGD(myNextModel.parameters(), lr=0.1, momentum=0.9)\n",
    "scheduler = optim.lr_scheduler.ReduceLROnPlateau(optimizer, 'min',factor=0.5, patience=3, verbose=True)\n",
    "# New Line\n",
    "criterion = F.nll_loss\n",
    "num_epochs = 20\n",
    "\n",
    "for epoch in range(1, num_epochs+1):\n",
    "  print(f'Epoch {epoch}')\n",
    "  tr_Acc, tr_loss = utils.train(myNextModel, train_loader, optimizer, criterion)\n",
    "  tst_acc, tst_loss = utils.test(myNextModel, test_loader, criterion)\n",
    "  train_acc.append(tr_Acc)\n",
    "  train_losses.append(tr_loss)\n",
    "  test_acc.append(tst_acc)\n",
    "  test_losses.append(tst_loss)\n",
    "  scheduler.step(tst_acc[0])"
   ]
  },
  {
   "cell_type": "markdown",
   "metadata": {},
   "source": [
    "Print the model summary to know your model"
   ]
  },
  {
   "cell_type": "code",
   "execution_count": 7,
   "metadata": {},
   "outputs": [
    {
     "name": "stdout",
     "output_type": "stream",
     "text": [
      "----------------------------------------------------------------\n",
      "        Layer (type)               Output Shape         Param #\n",
      "================================================================\n",
      "            Conv2d-1            [-1, 4, 26, 26]              40\n",
      "              ReLU-2            [-1, 4, 26, 26]               0\n",
      "       BatchNorm2d-3            [-1, 4, 26, 26]               8\n",
      "           Dropout-4            [-1, 4, 26, 26]               0\n",
      "            Conv2d-5            [-1, 4, 24, 24]             148\n",
      "              ReLU-6            [-1, 4, 24, 24]               0\n",
      "       BatchNorm2d-7            [-1, 4, 24, 24]               8\n",
      "           Dropout-8            [-1, 4, 24, 24]               0\n",
      "         MaxPool2d-9            [-1, 4, 12, 12]               0\n",
      "           Conv2d-10            [-1, 8, 10, 10]             296\n",
      "             ReLU-11            [-1, 8, 10, 10]               0\n",
      "      BatchNorm2d-12            [-1, 8, 10, 10]              16\n",
      "          Dropout-13            [-1, 8, 10, 10]               0\n",
      "           Conv2d-14              [-1, 8, 8, 8]             584\n",
      "             ReLU-15              [-1, 8, 8, 8]               0\n",
      "      BatchNorm2d-16              [-1, 8, 8, 8]              16\n",
      "          Dropout-17              [-1, 8, 8, 8]               0\n",
      "           Conv2d-18              [-1, 8, 6, 6]             584\n",
      "             ReLU-19              [-1, 8, 6, 6]               0\n",
      "      BatchNorm2d-20              [-1, 8, 6, 6]              16\n",
      "          Dropout-21              [-1, 8, 6, 6]               0\n",
      "           Conv2d-22             [-1, 16, 4, 4]           1,168\n",
      "             ReLU-23             [-1, 16, 4, 4]               0\n",
      "      BatchNorm2d-24             [-1, 16, 4, 4]              32\n",
      "          Dropout-25             [-1, 16, 4, 4]               0\n",
      "           Conv2d-26             [-1, 16, 2, 2]           2,320\n",
      "             ReLU-27             [-1, 16, 2, 2]               0\n",
      "      BatchNorm2d-28             [-1, 16, 2, 2]              32\n",
      "          Dropout-29             [-1, 16, 2, 2]               0\n",
      "           Conv2d-30             [-1, 10, 1, 1]             650\n",
      "================================================================\n",
      "Total params: 5,918\n",
      "Trainable params: 5,918\n",
      "Non-trainable params: 0\n",
      "----------------------------------------------------------------\n",
      "Input size (MB): 0.00\n",
      "Forward/backward pass size (MB): 0.22\n",
      "Params size (MB): 0.02\n",
      "Estimated Total Size (MB): 0.24\n",
      "----------------------------------------------------------------\n"
     ]
    }
   ],
   "source": [
    "utils.printModelSummary(myNextModel,(1, 28, 28))"
   ]
  },
  {
   "cell_type": "markdown",
   "metadata": {
    "id": "B-LM-Z1k6FcF"
   },
   "source": [
    "Plot the train and test accuracy"
   ]
  },
  {
   "cell_type": "code",
   "execution_count": 8,
   "metadata": {
    "colab": {
     "base_uri": "https://localhost:8080/",
     "height": 871
    },
    "id": "Wu0l7dli4eC9",
    "outputId": "cd1fcdab-0c0f-41dc-d1c9-6b80f9eb7915"
   },
   "outputs": [
    {
     "data": {
      "image/png": "[encoded data removed]",
      "text/plain": [
       "<Figure size 1500x1000 with 4 Axes>"
      ]
     },
     "metadata": {},
     "output_type": "display_data"
    }
   ],
   "source": [
    "utils.printModelTrainTestAccuracy(train_acc, train_losses, test_acc, test_losses)"
   ]
  }
 ],
 "metadata": {
  "accelerator": "GPU",
  "colab": {
   "gpuType": "T4",
   "provenance": []
  },
  "gpuClass": "standard",
  "kernelspec": {
   "display_name": "Python 3 (ipykernel)",
   "language": "python",
   "name": "python3"
  },
  "language_info": {
   "codemirror_mode": {
    "name": "ipython",
    "version": 3
   },
   "file_extension": ".py",
   "mimetype": "text/x-python",
   "name": "python",
   "nbconvert_exporter": "python",
   "pygments_lexer": "ipython3",
   "version": "3.11.3"
  }
 },
 "nbformat": 4,
 "nbformat_minor": 1
}
