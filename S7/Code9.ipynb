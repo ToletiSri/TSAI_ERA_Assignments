{
 "cells": [
  {
   "cell_type": "markdown",
   "metadata": {},
   "source": [
    "# TSAI Assignment 7 - Code 9"
   ]
  },
  {
   "cell_type": "markdown",
   "metadata": {},
   "source": [
    "### Model9:\n",
    "###### Target\n",
    "Improve accuracy to meet target. Use Squeeze-Expand model. LROnPlateau + Data Augmentation\n",
    "###### Result\n",
    "Model Parameters - 7,356\n",
    "Train Accuracy - 99.31%\n",
    "Test accuracy - 99.46%%\n",
    "##### Analysis\n",
    "Reached our required target!\n",
    "We go with this model"
   ]
  },
  {
   "cell_type": "code",
   "execution_count": 1,
   "metadata": {
    "id": "6PlbomWY3RSq"
   },
   "outputs": [],
   "source": [
    "from utils import torch,nn,F,optim,datasets,transforms\n",
    "import utils"
   ]
  },
  {
   "cell_type": "markdown",
   "metadata": {
    "id": "3UHq59Sw6tmW"
   },
   "source": [
    "Create Train and test Transforms - use utils module"
   ]
  },
  {
   "cell_type": "code",
   "execution_count": 2,
   "metadata": {
    "id": "KpshQ2Ug38m2"
   },
   "outputs": [],
   "source": [
    "# Data transformation parameters\n",
    "centerCrop = 22\n",
    "resize = 28\n",
    "randomRotate = 7.\n",
    "mean = 0.1307\n",
    "std_dev = 0.3081\n",
    "\n",
    "#Get train data transformation\n",
    "train_transforms = utils.getTrainTransforms_CropRotate(centerCrop, resize, randomRotate, mean,std_dev)\n",
    "\n",
    "#Get Test data transformations\n",
    "test_transforms = utils.getTestTransforms(mean,std_dev)"
   ]
  },
  {
   "cell_type": "markdown",
   "metadata": {
    "id": "zQm17pM46zHL"
   },
   "source": [
    "Get the MNIST data - train dataset and test dataset"
   ]
  },
  {
   "cell_type": "code",
   "execution_count": 3,
   "metadata": {
    "colab": {
     "base_uri": "https://localhost:8080/"
    },
    "id": "JB79ZYW13-AO",
    "outputId": "f375e7e7-b967-4ca5-cfad-a816b8f58a8a"
   },
   "outputs": [],
   "source": [
    "train_data = datasets.MNIST('../data', train=True, download=True, transform=train_transforms)\n",
    "test_data = datasets.MNIST('../data', train=False, download=True, transform=test_transforms)"
   ]
  },
  {
   "cell_type": "markdown",
   "metadata": {
    "id": "_PKSHxto6116"
   },
   "source": [
    "Get the train_loader and test_loader -  batches of data used in model training/testing"
   ]
  },
  {
   "cell_type": "code",
   "execution_count": 4,
   "metadata": {
    "id": "avCKK1uL4A68"
   },
   "outputs": [],
   "source": [
    "batch_size = 256\n",
    "\n",
    "kwargs = {'batch_size': batch_size, 'shuffle': True, 'num_workers': 2, 'pin_memory': True}\n",
    "\n",
    "train_loader = torch.utils.data.DataLoader(train_data, **kwargs)\n",
    "test_loader = torch.utils.data.DataLoader(test_data, **kwargs)"
   ]
  },
  {
   "cell_type": "markdown",
   "metadata": {
    "id": "y3XbVJSb7Aee"
   },
   "source": [
    "## MODEL - 9"
   ]
  },
  {
   "cell_type": "code",
   "execution_count": 5,
   "metadata": {},
   "outputs": [],
   "source": [
    "from models import model_9\n",
    "myNextModel = model_9.getModel()"
   ]
  },
  {
   "cell_type": "code",
   "execution_count": 6,
   "metadata": {
    "colab": {
     "base_uri": "https://localhost:8080/"
    },
    "id": "Owqiet9M4TV7",
    "outputId": "f5c847c7-642b-4773-becf-70168897809e"
   },
   "outputs": [
    {
     "name": "stdout",
     "output_type": "stream",
     "text": [
      "Epoch 1\n"
     ]
    },
    {
     "name": "stderr",
     "output_type": "stream",
     "text": [
      "  0%|                                                                                          | 0/235 [00:00<?, ?it/s]D:\\SRT_Courses\\MachineLearning\\TSAI\\Session7\\S7\\models\\model_9.py:59: UserWarning: Implicit dimension choice for log_softmax has been deprecated. Change the call to include dim=X as an argument.\n",
      "  return F.log_softmax(x)\n",
      "Train: Loss=0.1358 Batch_id=234 Accuracy=95.38: 100%|████████████████████████████████| 235/235 [00:36<00:00,  6.38it/s]\n"
     ]
    },
    {
     "name": "stdout",
     "output_type": "stream",
     "text": [
      "Test set: Average loss: 0.0452, Accuracy: 9867/10000 (98.67%)\n",
      "\n",
      "Epoch 2\n"
     ]
    },
    {
     "name": "stderr",
     "output_type": "stream",
     "text": [
      "Train: Loss=0.0247 Batch_id=234 Accuracy=98.12: 100%|████████████████████████████████| 235/235 [00:13<00:00, 17.20it/s]\n"
     ]
    },
    {
     "name": "stdout",
     "output_type": "stream",
     "text": [
      "Test set: Average loss: 0.0358, Accuracy: 9893/10000 (98.93%)\n",
      "\n",
      "Epoch 3\n"
     ]
    },
    {
     "name": "stderr",
     "output_type": "stream",
     "text": [
      "Train: Loss=0.0545 Batch_id=234 Accuracy=98.48: 100%|████████████████████████████████| 235/235 [00:14<00:00, 15.73it/s]\n"
     ]
    },
    {
     "name": "stdout",
     "output_type": "stream",
     "text": [
      "Test set: Average loss: 0.0360, Accuracy: 9895/10000 (98.95%)\n",
      "\n",
      "Epoch 4\n"
     ]
    },
    {
     "name": "stderr",
     "output_type": "stream",
     "text": [
      "Train: Loss=0.0499 Batch_id=234 Accuracy=98.73: 100%|████████████████████████████████| 235/235 [00:13<00:00, 17.24it/s]\n"
     ]
    },
    {
     "name": "stdout",
     "output_type": "stream",
     "text": [
      "Test set: Average loss: 0.0278, Accuracy: 9917/10000 (99.17%)\n",
      "\n",
      "Epoch 5\n"
     ]
    },
    {
     "name": "stderr",
     "output_type": "stream",
     "text": [
      "Train: Loss=0.0412 Batch_id=234 Accuracy=98.72: 100%|████████████████████████████████| 235/235 [00:12<00:00, 18.96it/s]\n"
     ]
    },
    {
     "name": "stdout",
     "output_type": "stream",
     "text": [
      "Test set: Average loss: 0.0284, Accuracy: 9912/10000 (99.12%)\n",
      "\n",
      "Epoch 00005: reducing learning rate of group 0 to 5.0000e-02.\n",
      "Epoch 6\n"
     ]
    },
    {
     "name": "stderr",
     "output_type": "stream",
     "text": [
      "Train: Loss=0.0596 Batch_id=234 Accuracy=98.97: 100%|████████████████████████████████| 235/235 [00:12<00:00, 19.23it/s]\n"
     ]
    },
    {
     "name": "stdout",
     "output_type": "stream",
     "text": [
      "Test set: Average loss: 0.0241, Accuracy: 9929/10000 (99.29%)\n",
      "\n",
      "Epoch 7\n"
     ]
    },
    {
     "name": "stderr",
     "output_type": "stream",
     "text": [
      "Train: Loss=0.0118 Batch_id=234 Accuracy=99.00: 100%|████████████████████████████████| 235/235 [00:11<00:00, 19.69it/s]\n"
     ]
    },
    {
     "name": "stdout",
     "output_type": "stream",
     "text": [
      "Test set: Average loss: 0.0211, Accuracy: 9934/10000 (99.34%)\n",
      "\n",
      "Epoch 8\n"
     ]
    },
    {
     "name": "stderr",
     "output_type": "stream",
     "text": [
      "Train: Loss=0.0290 Batch_id=234 Accuracy=99.08: 100%|████████████████████████████████| 235/235 [00:12<00:00, 19.54it/s]\n"
     ]
    },
    {
     "name": "stdout",
     "output_type": "stream",
     "text": [
      "Test set: Average loss: 0.0219, Accuracy: 9933/10000 (99.33%)\n",
      "\n",
      "Epoch 9\n"
     ]
    },
    {
     "name": "stderr",
     "output_type": "stream",
     "text": [
      "Train: Loss=0.0569 Batch_id=234 Accuracy=99.16: 100%|████████████████████████████████| 235/235 [00:12<00:00, 19.34it/s]\n"
     ]
    },
    {
     "name": "stdout",
     "output_type": "stream",
     "text": [
      "Test set: Average loss: 0.0211, Accuracy: 9938/10000 (99.38%)\n",
      "\n",
      "Epoch 00009: reducing learning rate of group 0 to 2.5000e-02.\n",
      "Epoch 10\n"
     ]
    },
    {
     "name": "stderr",
     "output_type": "stream",
     "text": [
      "Train: Loss=0.0233 Batch_id=234 Accuracy=99.23: 100%|████████████████████████████████| 235/235 [00:12<00:00, 19.16it/s]\n"
     ]
    },
    {
     "name": "stdout",
     "output_type": "stream",
     "text": [
      "Test set: Average loss: 0.0193, Accuracy: 9941/10000 (99.41%)\n",
      "\n",
      "Epoch 11\n"
     ]
    },
    {
     "name": "stderr",
     "output_type": "stream",
     "text": [
      "Train: Loss=0.0645 Batch_id=234 Accuracy=99.24: 100%|████████████████████████████████| 235/235 [00:12<00:00, 18.74it/s]\n"
     ]
    },
    {
     "name": "stdout",
     "output_type": "stream",
     "text": [
      "Test set: Average loss: 0.0213, Accuracy: 9935/10000 (99.35%)\n",
      "\n",
      "Epoch 12\n"
     ]
    },
    {
     "name": "stderr",
     "output_type": "stream",
     "text": [
      "Train: Loss=0.0854 Batch_id=234 Accuracy=99.29: 100%|████████████████████████████████| 235/235 [00:11<00:00, 19.80it/s]\n"
     ]
    },
    {
     "name": "stdout",
     "output_type": "stream",
     "text": [
      "Test set: Average loss: 0.0187, Accuracy: 9942/10000 (99.42%)\n",
      "\n",
      "Epoch 13\n"
     ]
    },
    {
     "name": "stderr",
     "output_type": "stream",
     "text": [
      "Train: Loss=0.0500 Batch_id=234 Accuracy=99.30: 100%|████████████████████████████████| 235/235 [00:12<00:00, 19.47it/s]\n"
     ]
    },
    {
     "name": "stdout",
     "output_type": "stream",
     "text": [
      "Test set: Average loss: 0.0189, Accuracy: 9942/10000 (99.42%)\n",
      "\n",
      "Epoch 00013: reducing learning rate of group 0 to 1.2500e-02.\n",
      "Epoch 14\n"
     ]
    },
    {
     "name": "stderr",
     "output_type": "stream",
     "text": [
      "Train: Loss=0.0215 Batch_id=234 Accuracy=99.36: 100%|████████████████████████████████| 235/235 [00:11<00:00, 19.67it/s]\n"
     ]
    },
    {
     "name": "stdout",
     "output_type": "stream",
     "text": [
      "Test set: Average loss: 0.0189, Accuracy: 9942/10000 (99.42%)\n",
      "\n",
      "Epoch 15\n"
     ]
    },
    {
     "name": "stderr",
     "output_type": "stream",
     "text": [
      "Train: Loss=0.0179 Batch_id=234 Accuracy=99.36: 100%|████████████████████████████████| 235/235 [00:12<00:00, 19.30it/s]\n"
     ]
    },
    {
     "name": "stdout",
     "output_type": "stream",
     "text": [
      "Test set: Average loss: 0.0195, Accuracy: 9941/10000 (99.41%)\n",
      "\n",
      "Epoch 16\n"
     ]
    },
    {
     "name": "stderr",
     "output_type": "stream",
     "text": [
      "Train: Loss=0.0477 Batch_id=234 Accuracy=99.38: 100%|████████████████████████████████| 235/235 [00:13<00:00, 17.99it/s]\n"
     ]
    },
    {
     "name": "stdout",
     "output_type": "stream",
     "text": [
      "Test set: Average loss: 0.0180, Accuracy: 9941/10000 (99.41%)\n",
      "\n",
      "Epoch 17\n"
     ]
    },
    {
     "name": "stderr",
     "output_type": "stream",
     "text": [
      "Train: Loss=0.0023 Batch_id=234 Accuracy=99.33: 100%|████████████████████████████████| 235/235 [00:12<00:00, 18.33it/s]\n"
     ]
    },
    {
     "name": "stdout",
     "output_type": "stream",
     "text": [
      "Test set: Average loss: 0.0181, Accuracy: 9943/10000 (99.43%)\n",
      "\n",
      "Epoch 00017: reducing learning rate of group 0 to 6.2500e-03.\n",
      "Epoch 18\n"
     ]
    },
    {
     "name": "stderr",
     "output_type": "stream",
     "text": [
      "Train: Loss=0.0095 Batch_id=234 Accuracy=99.42: 100%|████████████████████████████████| 235/235 [00:12<00:00, 18.74it/s]\n"
     ]
    },
    {
     "name": "stdout",
     "output_type": "stream",
     "text": [
      "Test set: Average loss: 0.0177, Accuracy: 9948/10000 (99.48%)\n",
      "\n",
      "Epoch 19\n"
     ]
    },
    {
     "name": "stderr",
     "output_type": "stream",
     "text": [
      "Train: Loss=0.0223 Batch_id=234 Accuracy=99.42: 100%|████████████████████████████████| 235/235 [00:13<00:00, 18.02it/s]\n"
     ]
    },
    {
     "name": "stdout",
     "output_type": "stream",
     "text": [
      "Test set: Average loss: 0.0177, Accuracy: 9947/10000 (99.47%)\n",
      "\n",
      "Epoch 20\n"
     ]
    },
    {
     "name": "stderr",
     "output_type": "stream",
     "text": [
      "Train: Loss=0.0365 Batch_id=234 Accuracy=99.39: 100%|████████████████████████████████| 235/235 [00:13<00:00, 17.81it/s]\n"
     ]
    },
    {
     "name": "stdout",
     "output_type": "stream",
     "text": [
      "Test set: Average loss: 0.0181, Accuracy: 9944/10000 (99.44%)\n",
      "\n"
     ]
    }
   ],
   "source": [
    "# Data to plot accuracy and loss graphs\n",
    "train_losses = []\n",
    "test_losses = []\n",
    "train_acc = []\n",
    "test_acc = []\n",
    "\n",
    "optimizer = optim.SGD(myNextModel.parameters(), lr=0.1, momentum=0.9)\n",
    "scheduler = optim.lr_scheduler.ReduceLROnPlateau(optimizer, 'min',factor=0.5, patience=3, verbose=True)\n",
    "# New Line\n",
    "criterion = F.nll_loss\n",
    "num_epochs = 20\n",
    "\n",
    "for epoch in range(1, num_epochs+1):\n",
    "  print(f'Epoch {epoch}')\n",
    "  tr_Acc, tr_loss = utils.train(myNextModel, train_loader, optimizer, criterion)\n",
    "  tst_acc, tst_loss = utils.test(myNextModel, test_loader, criterion)\n",
    "  train_acc.append(tr_Acc)\n",
    "  train_losses.append(tr_loss)\n",
    "  test_acc.append(tst_acc)\n",
    "  test_losses.append(tst_loss)\n",
    "  scheduler.step(tst_acc[0])"
   ]
  },
  {
   "cell_type": "markdown",
   "metadata": {},
   "source": [
    "Print the model summary to know your model"
   ]
  },
  {
   "cell_type": "code",
   "execution_count": 7,
   "metadata": {},
   "outputs": [
    {
     "name": "stdout",
     "output_type": "stream",
     "text": [
      "----------------------------------------------------------------\n",
      "        Layer (type)               Output Shape         Param #\n",
      "================================================================\n",
      "            Conv2d-1            [-1, 8, 26, 26]              72\n",
      "              ReLU-2            [-1, 8, 26, 26]               0\n",
      "       BatchNorm2d-3            [-1, 8, 26, 26]              16\n",
      "           Dropout-4            [-1, 8, 26, 26]               0\n",
      "            Conv2d-5           [-1, 16, 24, 24]           1,152\n",
      "              ReLU-6           [-1, 16, 24, 24]               0\n",
      "       BatchNorm2d-7           [-1, 16, 24, 24]              32\n",
      "           Dropout-8           [-1, 16, 24, 24]               0\n",
      "         MaxPool2d-9           [-1, 16, 12, 12]               0\n",
      "           Conv2d-10            [-1, 8, 12, 12]             136\n",
      "      BatchNorm2d-11            [-1, 8, 12, 12]              16\n",
      "           Conv2d-12           [-1, 16, 10, 10]           1,152\n",
      "             ReLU-13           [-1, 16, 10, 10]               0\n",
      "      BatchNorm2d-14           [-1, 16, 10, 10]              32\n",
      "          Dropout-15           [-1, 16, 10, 10]               0\n",
      "           Conv2d-16             [-1, 20, 8, 8]           2,880\n",
      "             ReLU-17             [-1, 20, 8, 8]               0\n",
      "      BatchNorm2d-18             [-1, 20, 8, 8]              40\n",
      "          Dropout-19             [-1, 20, 8, 8]               0\n",
      "        MaxPool2d-20             [-1, 20, 4, 4]               0\n",
      "           Conv2d-21             [-1, 16, 4, 4]             336\n",
      "      BatchNorm2d-22             [-1, 16, 4, 4]              32\n",
      "           Conv2d-23             [-1, 10, 2, 2]           1,440\n",
      "             ReLU-24             [-1, 10, 2, 2]               0\n",
      "      BatchNorm2d-25             [-1, 10, 2, 2]              20\n",
      "          Dropout-26             [-1, 10, 2, 2]               0\n",
      "        AvgPool2d-27             [-1, 10, 1, 1]               0\n",
      "================================================================\n",
      "Total params: 7,356\n",
      "Trainable params: 7,356\n",
      "Non-trainable params: 0\n",
      "----------------------------------------------------------------\n",
      "Input size (MB): 0.00\n",
      "Forward/backward pass size (MB): 0.58\n",
      "Params size (MB): 0.03\n",
      "Estimated Total Size (MB): 0.61\n",
      "----------------------------------------------------------------\n"
     ]
    }
   ],
   "source": [
    "utils.printModelSummary(myNextModel,(1, 28, 28))"
   ]
  },
  {
   "cell_type": "markdown",
   "metadata": {
    "id": "B-LM-Z1k6FcF"
   },
   "source": [
    "Plot the train and test accuracy"
   ]
  },
  {
   "cell_type": "code",
   "execution_count": 8,
   "metadata": {
    "colab": {
     "base_uri": "https://localhost:8080/",
     "height": 871
    },
    "id": "Wu0l7dli4eC9",
    "outputId": "cd1fcdab-0c0f-41dc-d1c9-6b80f9eb7915"
   },
   "outputs": [
    {
     "data": {
      "image/png": "[encoded data removed]",
      "text/plain": [
       "<Figure size 1500x1000 with 4 Axes>"
      ]
     },
     "metadata": {},
     "output_type": "display_data"
    }
   ],
   "source": [
    "utils.printModelTrainTestAccuracy(train_acc, train_losses, test_acc, test_losses)"
   ]
  }
 ],
 "metadata": {
  "accelerator": "GPU",
  "colab": {
   "gpuType": "T4",
   "provenance": []
  },
  "gpuClass": "standard",
  "kernelspec": {
   "display_name": "Python 3 (ipykernel)",
   "language": "python",
   "name": "python3"
  },
  "language_info": {
   "codemirror_mode": {
    "name": "ipython",
    "version": 3
   },
   "file_extension": ".py",
   "mimetype": "text/x-python",
   "name": "python",
   "nbconvert_exporter": "python",
   "pygments_lexer": "ipython3",
   "version": "3.11.3"
  }
 },
 "nbformat": 4,
 "nbformat_minor": 1
}
