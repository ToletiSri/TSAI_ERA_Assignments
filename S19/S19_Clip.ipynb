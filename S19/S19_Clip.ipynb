{
 "cells": [
  {
   "cell_type": "markdown",
   "id": "5c83a14d",
   "metadata": {},
   "source": [
    "# S19 - Clip (With Pre-trained model)"
   ]
  },
  {
   "cell_type": "code",
   "execution_count": 2,
   "id": "630acc2b",
   "metadata": {},
   "outputs": [
    {
     "name": "stderr",
     "output_type": "stream",
     "text": [
      "c:\\Users\\SToleti\\AppData\\Local\\Programs\\Python\\Python311\\Lib\\site-packages\\tqdm\\auto.py:21: TqdmWarning: IProgress not found. Please update jupyter and ipywidgets. See https://ipywidgets.readthedocs.io/en/stable/user_install.html\n",
      "  from .autonotebook import tqdm as notebook_tqdm\n"
     ]
    }
   ],
   "source": [
    "import gradio as gr\n",
    "from transformers import CLIPProcessor, CLIPModel\n",
    "\n",
    "model = CLIPModel.from_pretrained(\"openai/clip-vit-base-patch32\")\n",
    "processor = CLIPProcessor.from_pretrained(\"openai/clip-vit-base-patch32\")\n"
   ]
  },
  {
   "cell_type": "code",
   "execution_count": 3,
   "id": "b19e1563",
   "metadata": {},
   "outputs": [
    {
     "name": "stdout",
     "output_type": "stream",
     "text": [
      "Running on local URL:  http://127.0.0.1:7860\n",
      "\n",
      "To create a public link, set `share=True` in `launch()`.\n"
     ]
    },
    {
     "data": {
      "text/html": [
       "<div><iframe src=\"http://127.0.0.1:7860/\" width=\"100%\" height=\"500\" allow=\"autoplay; camera; microphone; clipboard-read; clipboard-write;\" frameborder=\"0\" allowfullscreen></iframe></div>"
      ],
      "text/plain": [
       "<IPython.core.display.HTML object>"
      ]
     },
     "metadata": {},
     "output_type": "display_data"
    },
    {
     "data": {
      "text/plain": []
     },
     "execution_count": 3,
     "metadata": {},
     "output_type": "execute_result"
    },
    {
     "name": "stdout",
     "output_type": "stream",
     "text": [
      "tensor([[0.9945, 0.0055]], grad_fn=<SoftmaxBackward0>)\n",
      "<class 'torch.Tensor'>\n"
     ]
    }
   ],
   "source": [
    "\n",
    "\n",
    "def inference(input_img, captions):\n",
    "    captions_list = captions.split(\",\")\n",
    "    #url = \"http://images.cocodataset.org/val2017/000000039769.jpg\"\n",
    "    #image = Image.open(requests.get(url, stream=True).raw)\n",
    "    inputs = processor(text=captions_list, images=input_img, return_tensors=\"pt\", padding=True)\n",
    "    outputs = model(**inputs)\n",
    "    logits_per_image = outputs.logits_per_image  # this is the image-text similarity score\n",
    "    probs = logits_per_image.softmax(dim=1) \n",
    "    probabilities_percentages = ', '.join(['{:.2f}%'.format(prob.item() * 100) for prob in probs[0]])\n",
    "    return probabilities_percentages\n",
    "\n",
    "title = \"TSAI S18 Assignment: Use a pretrained CLIP model and give a demo on its workig\"\n",
    "description = \"A simple Gradio interface that accepts an image and some captions, and gives a score as to how much the caption describes the image \"\n",
    " \n",
    "examples = [[\"cats.jpg\",\"a photo of a cat, a photo of a dog\"]\n",
    "           ]\n",
    "\n",
    "demo = gr.Interface(\n",
    "    inference, \n",
    "    inputs = [gr.Image(shape=(416, 416), label=\"Input Image\"), gr.Textbox(placeholder=\"Enter different captions for image, separated by comma\")], \n",
    "    outputs = [gr.Textbox(label=\"Probability score of captions\")],\n",
    "    title = title,\n",
    "    description = description,\n",
    "    examples = examples,\n",
    ")\n",
    "demo.launch()\n",
    "\n"
   ]
  },
  {
   "cell_type": "code",
   "execution_count": 6,
   "id": "0cf76876",
   "metadata": {},
   "outputs": [
    {
     "data": {
      "text/plain": [
       "torch.Size([1, 2])"
      ]
     },
     "execution_count": 6,
     "metadata": {},
     "output_type": "execute_result"
    }
   ],
   "source": [
    "import torch\n",
    "eg = torch.tensor([[0.9945, 0.0055]])\n",
    "eg.shape"
   ]
  }
 ],
 "metadata": {
  "kernelspec": {
   "display_name": "Python 3 (ipykernel)",
   "language": "python",
   "name": "python3"
  },
  "language_info": {
   "codemirror_mode": {
    "name": "ipython",
    "version": 3
   },
   "file_extension": ".py",
   "mimetype": "text/x-python",
   "name": "python",
   "nbconvert_exporter": "python",
   "pygments_lexer": "ipython3",
   "version": "3.11.3"
  }
 },
 "nbformat": 4,
 "nbformat_minor": 5
}
