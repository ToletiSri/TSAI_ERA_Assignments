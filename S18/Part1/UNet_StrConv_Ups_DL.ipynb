{
 "cells": [
  {
   "cell_type": "markdown",
   "id": "5c83a14d",
   "metadata": {},
   "source": [
    "# S18 - Part 1 - UNET"
   ]
  },
  {
   "cell_type": "markdown",
   "id": "658466cf",
   "metadata": {},
   "source": [
    "### UNET - Strided Convolution(Contracting Block) + Upsample(Expanding Block) + Dice Loss"
   ]
  },
  {
   "cell_type": "code",
   "execution_count": null,
   "id": "630acc2b",
   "metadata": {},
   "outputs": [],
   "source": [
    "# Import dataset and fetch lightning data nodule\n",
    "from dataset import OxfordIIITPetsCustomDataModule\n",
    "datamodule = OxfordIIITPetsCustomDataModule()\n"
   ]
  },
  {
   "cell_type": "code",
   "execution_count": null,
   "id": "ca487a95",
   "metadata": {},
   "outputs": [],
   "source": [
    "import pytorch_lightning as pl\n",
    "from lightningModel import CustomUnet\n",
    "import torch.nn as nn\n",
    "\n",
    "pl.seed_everything(1234)\n",
    "model_unet = CustomUnet(loss = 'DL', ContractMethod = 'StrConv', ExpandMethod = 'Up')\n",
    "trainer = pl.Trainer(gpus=1, max_epochs=30)\n",
    "trainer.fit(model_unet, datamodule)"
   ]
  }
 ],
 "metadata": {
  "kernelspec": {
   "display_name": "Python 3 (ipykernel)",
   "language": "python",
   "name": "python3"
  },
  "language_info": {
   "codemirror_mode": {
    "name": "ipython",
    "version": 3
   },
   "file_extension": ".py",
   "mimetype": "text/x-python",
   "name": "python",
   "nbconvert_exporter": "python",
   "pygments_lexer": "ipython3",
   "version": "3.11.3"
  }
 },
 "nbformat": 4,
 "nbformat_minor": 5
}
