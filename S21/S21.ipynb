{
 "cells": [
  {
   "cell_type": "markdown",
   "metadata": {
    "_cell_guid": "b1076dfc-b9ad-4769-8c92-a6c4dae69d19",
    "_uuid": "8f2839f25d086af736a60e9eeb907d3b93b6e0e5"
   },
   "source": [
    "# S21 - GPT Training"
   ]
  },
  {
   "cell_type": "code",
   "execution_count": 1,
   "metadata": {
    "execution": {
     "iopub.execute_input": "2023-11-03T01:12:39.890219Z",
     "iopub.status.busy": "2023-11-03T01:12:39.889877Z",
     "iopub.status.idle": "2023-11-03T01:12:40.906181Z",
     "shell.execute_reply": "2023-11-03T01:12:40.904579Z",
     "shell.execute_reply.started": "2023-11-03T01:12:39.890191Z"
    }
   },
   "outputs": [],
   "source": [
    "!cd /kaggle/working"
   ]
  },
  {
   "cell_type": "code",
   "execution_count": 2,
   "metadata": {
    "execution": {
     "iopub.execute_input": "2023-11-03T01:12:40.909361Z",
     "iopub.status.busy": "2023-11-03T01:12:40.909018Z",
     "iopub.status.idle": "2023-11-03T01:12:45.217170Z",
     "shell.execute_reply": "2023-11-03T01:12:45.216129Z",
     "shell.execute_reply.started": "2023-11-03T01:12:40.909331Z"
    }
   },
   "outputs": [
    {
     "name": "stdout",
     "output_type": "stream",
     "text": [
      "Cloning into 'TSAI_ERA_Assignments'...\n",
      "remote: Enumerating objects: 716, done.\u001b[K\n",
      "remote: Counting objects: 100% (204/204), done.\u001b[K\n",
      "remote: Compressing objects: 100% (127/127), done.\u001b[K\n",
      "remote: Total 716 (delta 89), reused 178 (delta 75), pack-reused 512\u001b[K\n",
      "Receiving objects: 100% (716/716), 24.85 MiB | 20.90 MiB/s, done.\n",
      "Resolving deltas: 100% (365/365), done.\n"
     ]
    }
   ],
   "source": [
    "!rm -rf TSAI_ERA_Assignments\n",
    "!git clone https://github.com/ToletiSri/TSAI_ERA_Assignments.git"
   ]
  },
  {
   "cell_type": "code",
   "execution_count": 3,
   "metadata": {
    "execution": {
     "iopub.execute_input": "2023-11-03T01:12:45.219451Z",
     "iopub.status.busy": "2023-11-03T01:12:45.219052Z",
     "iopub.status.idle": "2023-11-03T01:12:45.227856Z",
     "shell.execute_reply": "2023-11-03T01:12:45.226565Z",
     "shell.execute_reply.started": "2023-11-03T01:12:45.219412Z"
    }
   },
   "outputs": [
    {
     "name": "stdout",
     "output_type": "stream",
     "text": [
      "/kaggle/working/TSAI_ERA_Assignments/S21\n"
     ]
    }
   ],
   "source": [
    "cd TSAI_ERA_Assignments/S21"
   ]
  },
  {
   "cell_type": "code",
   "execution_count": 4,
   "metadata": {
    "execution": {
     "iopub.execute_input": "2023-11-03T01:12:45.231913Z",
     "iopub.status.busy": "2023-11-03T01:12:45.231442Z",
     "iopub.status.idle": "2023-11-03T01:12:48.540512Z",
     "shell.execute_reply": "2023-11-03T01:12:48.538791Z",
     "shell.execute_reply.started": "2023-11-03T01:12:45.231873Z"
    }
   },
   "outputs": [],
   "source": [
    "import torch\n",
    "import torch.nn as nn\n",
    "from torch.nn import functional as F\n",
    "\n",
    "import config as cfg"
   ]
  },
  {
   "cell_type": "code",
   "execution_count": 5,
   "metadata": {
    "execution": {
     "iopub.execute_input": "2023-11-03T01:12:48.543483Z",
     "iopub.status.busy": "2023-11-03T01:12:48.542772Z",
     "iopub.status.idle": "2023-11-03T01:12:48.548864Z",
     "shell.execute_reply": "2023-11-03T01:12:48.547778Z",
     "shell.execute_reply.started": "2023-11-03T01:12:48.543442Z"
    }
   },
   "outputs": [],
   "source": [
    "device = cfg.device\n",
    "block_size = cfg.block_size\n",
    "batch_size = cfg.batch_size\n",
    "eval_iters = cfg.eval_iters"
   ]
  },
  {
   "cell_type": "code",
   "execution_count": 6,
   "metadata": {
    "execution": {
     "iopub.execute_input": "2023-11-03T01:12:48.550281Z",
     "iopub.status.busy": "2023-11-03T01:12:48.549983Z",
     "iopub.status.idle": "2023-11-03T01:12:48.592163Z",
     "shell.execute_reply": "2023-11-03T01:12:48.591210Z",
     "shell.execute_reply.started": "2023-11-03T01:12:48.550256Z"
    }
   },
   "outputs": [],
   "source": [
    "torch.manual_seed(1337)\n",
    "\n",
    "# wget https://raw.githubusercontent.com/karpathy/char-rnn/master/data/tinyshakespeare/input.txt\n",
    "with open('input.txt', 'r', encoding='utf-8') as f:\n",
    "    text = f.read()\n",
    "\n",
    "# here are all the unique characters that occur in this text\n",
    "chars = sorted(list(set(text)))\n",
    "vocab_size = len(chars)\n",
    "# create a mapping from characters to integers\n",
    "stoi = { ch:i for i,ch in enumerate(chars) }\n",
    "itos = { i:ch for i,ch in enumerate(chars) }\n",
    "encode = lambda s: [stoi[c] for c in s] # encoder: take a string, output a list of integers\n",
    "decode = lambda l: ''.join([itos[i] for i in l]) # decoder: take a list of integers, output a string"
   ]
  },
  {
   "cell_type": "code",
   "execution_count": 7,
   "metadata": {
    "execution": {
     "iopub.execute_input": "2023-11-03T01:12:48.593645Z",
     "iopub.status.busy": "2023-11-03T01:12:48.593307Z",
     "iopub.status.idle": "2023-11-03T01:12:48.901374Z",
     "shell.execute_reply": "2023-11-03T01:12:48.900392Z",
     "shell.execute_reply.started": "2023-11-03T01:12:48.593615Z"
    }
   },
   "outputs": [],
   "source": [
    "# Train and test splits\n",
    "data = torch.tensor(encode(text), dtype=torch.long)\n",
    "n = int(0.9*len(data)) # first 90% will be train, rest val\n",
    "train_data = data[:n]\n",
    "val_data = data[n:]"
   ]
  },
  {
   "cell_type": "code",
   "execution_count": 8,
   "metadata": {
    "execution": {
     "iopub.execute_input": "2023-11-03T01:12:48.903042Z",
     "iopub.status.busy": "2023-11-03T01:12:48.902655Z",
     "iopub.status.idle": "2023-11-03T01:12:48.912229Z",
     "shell.execute_reply": "2023-11-03T01:12:48.911177Z",
     "shell.execute_reply.started": "2023-11-03T01:12:48.903006Z"
    }
   },
   "outputs": [],
   "source": [
    "# data loading\n",
    "def get_batch(split):\n",
    "    # generate a small batch of data of inputs x and targets y\n",
    "    data = train_data if split == 'train' else val_data\n",
    "    ix = torch.randint(len(data) - block_size, (batch_size,))\n",
    "    x = torch.stack([data[i:i+block_size] for i in ix])\n",
    "    y = torch.stack([data[i+1:i+block_size+1] for i in ix])\n",
    "    x, y = x.to(device), y.to(device)\n",
    "    return x, y\n",
    "\n",
    "@torch.no_grad()\n",
    "def estimate_loss(model):\n",
    "    out = {}\n",
    "    model.eval()\n",
    "    for split in ['train', 'val']:\n",
    "        losses = torch.zeros(eval_iters)\n",
    "        for k in range(eval_iters):\n",
    "            X, Y = get_batch(split)\n",
    "            logits, loss = model(X, Y)\n",
    "            losses[k] = loss.item()\n",
    "        out[split] = losses.mean()\n",
    "    model.train()\n",
    "    return out"
   ]
  },
  {
   "cell_type": "code",
   "execution_count": 9,
   "metadata": {
    "execution": {
     "iopub.execute_input": "2023-11-03T01:12:48.914109Z",
     "iopub.status.busy": "2023-11-03T01:12:48.913689Z",
     "iopub.status.idle": "2023-11-03T01:42:53.466210Z",
     "shell.execute_reply": "2023-11-03T01:42:53.465306Z",
     "shell.execute_reply.started": "2023-11-03T01:12:48.914071Z"
    }
   },
   "outputs": [
    {
     "name": "stdout",
     "output_type": "stream",
     "text": [
      "10.788929 M parameters\n",
      "step 0: train loss 4.2221, val loss 4.2306\n",
      "step 500: train loss 1.7587, val loss 1.9086\n",
      "step 1000: train loss 1.3919, val loss 1.5998\n",
      "step 1500: train loss 1.2673, val loss 1.5301\n",
      "step 2000: train loss 1.1904, val loss 1.5142\n",
      "step 2500: train loss 1.1194, val loss 1.5024\n",
      "step 3000: train loss 1.0738, val loss 1.4949\n",
      "step 3500: train loss 1.0213, val loss 1.5150\n",
      "step 4000: train loss 0.9618, val loss 1.5183\n",
      "step 4500: train loss 0.9087, val loss 1.5446\n",
      "step 4999: train loss 0.8543, val loss 1.5633\n"
     ]
    }
   ],
   "source": [
    "from gpt import GPTLanguageModel\n",
    "\n",
    "model = GPTLanguageModel(vocab_size)\n",
    "m = model.to(device)\n",
    "# print the number of parameters in the model\n",
    "print(sum(p.numel() for p in m.parameters())/1e6, 'M parameters')\n",
    "\n",
    "# create a PyTorch optimizer\n",
    "optimizer = torch.optim.AdamW(model.parameters(), lr=cfg.learning_rate)\n",
    "\n",
    "for iter in range(cfg.max_iters):\n",
    "\n",
    "    # every once in a while evaluate the loss on train and val sets\n",
    "    if iter % cfg.eval_interval == 0 or iter == cfg.max_iters - 1:\n",
    "        losses = estimate_loss(model)\n",
    "        print(f\"step {iter}: train loss {losses['train']:.4f}, val loss {losses['val']:.4f}\")        \n",
    "\n",
    "    # sample a batch of data\n",
    "    xb, yb = get_batch('train')\n",
    "\n",
    "    # evaluate the loss\n",
    "    logits, loss = model(xb, yb)\n",
    "    optimizer.zero_grad(set_to_none=True)\n",
    "    loss.backward()\n",
    "    optimizer.step()\n",
    "    \n",
    "torch.save(model.state_dict(), 'saved_model.pth')\n"
   ]
  },
  {
   "cell_type": "code",
   "execution_count": 11,
   "metadata": {
    "execution": {
     "iopub.execute_input": "2023-11-03T01:43:02.494093Z",
     "iopub.status.busy": "2023-11-03T01:43:02.493787Z",
     "iopub.status.idle": "2023-11-03T01:43:11.437087Z",
     "shell.execute_reply": "2023-11-03T01:43:11.435912Z",
     "shell.execute_reply.started": "2023-11-03T01:43:02.494066Z"
    }
   },
   "outputs": [
    {
     "name": "stdout",
     "output_type": "stream",
     "text": [
      "\n",
      "Officious, and the people of the fire;\n",
      "And him with his virtuous natural words;\n",
      "The sword of a parageit and confirmate\n",
      "Where it had our courtesy: nor my garms should we,\n",
      "For shame, but defy him-shamed with the gentle hours\n",
      "That sweet's infant; and so retoris as it glow,\n",
      "To help misforthy, every known, which shows\n",
      "In commissingly strength; for near nature wears, each in\n",
      "joy.\n",
      "I am enten'd to no good fellow, health I wear:\n",
      "Ah, tell-my mother may stone return to me;\n",
      "And leave me have this country'd \n"
     ]
    }
   ],
   "source": [
    "# generate from the model\n",
    "context = torch.zeros((1, 1), dtype=torch.long, device=device)\n",
    "print(decode(m.generate(context, max_new_tokens=500)[0].tolist()))"
   ]
  }
 ],
 "metadata": {
  "kernelspec": {
   "display_name": "Python 3 (ipykernel)",
   "language": "python",
   "name": "python3"
  },
  "language_info": {
   "codemirror_mode": {
    "name": "ipython",
    "version": 3
   },
   "file_extension": ".py",
   "mimetype": "text/x-python",
   "name": "python",
   "nbconvert_exporter": "python",
   "pygments_lexer": "ipython3",
   "version": "3.11.3"
  }
 },
 "nbformat": 4,
 "nbformat_minor": 4
}
